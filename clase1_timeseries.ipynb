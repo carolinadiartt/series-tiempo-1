{
 "cells": [
  {
   "attachments": {},
   "cell_type": "markdown",
   "metadata": {},
   "source": [
    "# Datos transversales"
   ]
  },
  {
   "cell_type": "code",
   "execution_count": 2,
   "metadata": {},
   "outputs": [],
   "source": [
    "import warnings\n",
    "warnings.filterwarnings(\"ignore\")"
   ]
  },
  {
   "cell_type": "code",
   "execution_count": 3,
   "metadata": {},
   "outputs": [],
   "source": [
    "import pandas as pd\n",
    "import numpy as np\n",
    "from matplotlib import pyplot as plt\n",
    "import seaborn as sns"
   ]
  },
  {
   "cell_type": "code",
   "execution_count": 4,
   "metadata": {},
   "outputs": [],
   "source": [
    "sns.set_style(\"darkgrid\")"
   ]
  },
  {
   "cell_type": "code",
   "execution_count": 5,
   "metadata": {},
   "outputs": [
    {
     "name": "stdout",
     "output_type": "stream",
     "text": [
      "Column names: Index(['Country Name', 'Country Code', 'Indicator Name', 'Indicator Code',\n",
      "       '1960', '1961', '1962', '1963', '1964', '1965', '1966', '1967', '1968',\n",
      "       '1969', '1970', '1971', '1972', '1973', '1974', '1975', '1976', '1977',\n",
      "       '1978', '1979', '1980', '1981', '1982', '1983', '1984', '1985', '1986',\n",
      "       '1987', '1988', '1989', '1990', '1991', '1992', '1993', '1994', '1995',\n",
      "       '1996', '1997', '1998', '1999', '2000', '2001', '2002', '2003', '2004',\n",
      "       '2005', '2006', '2007', '2008', '2009', '2010', '2011', '2012', '2013',\n",
      "       '2014', '2015', '2016', 'Unnamed: 61'],\n",
      "      dtype='object')\n"
     ]
    }
   ],
   "source": [
    "data = pd.read_csv('datasets/WDIData.csv')\n",
    "print('Column names:', data.columns)"
   ]
  },
  {
   "cell_type": "code",
   "execution_count": 6,
   "metadata": {},
   "outputs": [
    {
     "name": "stdout",
     "output_type": "stream",
     "text": [
      "No. of rows, columns: (401016, 62)\n"
     ]
    }
   ],
   "source": [
    "print('No. of rows, columns:', data.shape) #para ver la longitud de mi dataframe"
   ]
  },
  {
   "cell_type": "code",
   "execution_count": 7,
   "metadata": {},
   "outputs": [
    {
     "name": "stdout",
     "output_type": "stream",
     "text": [
      "Unique number of countries: 264\n"
     ]
    }
   ],
   "source": [
    "nb_countries = data['Country Code'].unique().shape[0] #unique toma las etiquetas unicas, que no se repitan. Cuento los paises\n",
    "print('Unique number of countries:', nb_countries)"
   ]
  },
  {
   "attachments": {},
   "cell_type": "markdown",
   "metadata": {},
   "source": [
    "Se preparan otros dos DataFrame que obtengan las filas correspondientes a los indicadores Total Central Government Debt (as % of GDP) y Military expenditure (% of GDP) para todos los países."
   ]
  },
  {
   "cell_type": "code",
   "execution_count": 8,
   "metadata": {},
   "outputs": [],
   "source": [
    "central_govt_debt = data.loc[data['Indicator Name']=='Central government debt, total (% of GDP)']\n",
    "military_exp = data.loc[data['Indicator Name']=='Military expenditure (% of GDP)'] #data.loc me permite localizar la variable de interes"
   ]
  },
  {
   "attachments": {},
   "cell_type": "markdown",
   "metadata": {},
   "source": [
    "Compruebo los dos dataframes anteriores (longitudes):"
   ]
  },
  {
   "cell_type": "code",
   "execution_count": 9,
   "metadata": {},
   "outputs": [
    {
     "name": "stdout",
     "output_type": "stream",
     "text": [
      "Shape of central_govt_debt: (264, 62)\n",
      "Shape of military_exp: (264, 62)\n"
     ]
    }
   ],
   "source": [
    "print('Shape of central_govt_debt:', central_govt_debt.shape)\n",
    "print('Shape of military_exp:', military_exp.shape)"
   ]
  },
  {
   "attachments": {},
   "cell_type": "markdown",
   "metadata": {},
   "source": [
    "Para trazar los datos univariantes y transversales, necesito la columna 2010. Antes de ejecutar el código para el trazado, compruebo si falta la columna 2010. "
   ]
  },
  {
   "cell_type": "code",
   "execution_count": 10,
   "metadata": {},
   "outputs": [
    {
     "data": {
      "text/plain": [
       "count     94.000000\n",
       "mean      53.048479\n",
       "std       29.790674\n",
       "min        0.519665\n",
       "25%       28.357797\n",
       "50%       49.540245\n",
       "75%       75.259012\n",
       "max      161.596402\n",
       "Name: 2010, dtype: float64"
      ]
     },
     "execution_count": 10,
     "metadata": {},
     "output_type": "execute_result"
    }
   ],
   "source": [
    "central_govt_debt['2010'].describe()"
   ]
  },
  {
   "attachments": {},
   "cell_type": "markdown",
   "metadata": {},
   "source": [
    "La media de la deuda del Gobierno central del año 2020 (53.04) es mayor que el cuartil 2(49.54), es decir, está un poco sesgada hacia la derecha"
   ]
  },
  {
   "cell_type": "code",
   "execution_count": 11,
   "metadata": {},
   "outputs": [
    {
     "data": {
      "text/plain": [
       "count    192.000000\n",
       "mean       1.988556\n",
       "std        1.354856\n",
       "min        0.000000\n",
       "25%        1.190287\n",
       "50%        1.613407\n",
       "75%        2.624711\n",
       "max        8.565679\n",
       "Name: 2010, dtype: float64"
      ]
     },
     "execution_count": 11,
     "metadata": {},
     "output_type": "execute_result"
    }
   ],
   "source": [
    "military_exp['2010'].describe()"
   ]
  },
  {
   "attachments": {},
   "cell_type": "markdown",
   "metadata": {},
   "source": [
    "La media de la gasto militar del año 2020 (1.98) es mayor que el cuartil 2(1.61), es decir, también está un poco sesgada hacia la derecha"
   ]
  },
  {
   "attachments": {},
   "cell_type": "markdown",
   "metadata": {},
   "source": [
    "Para hacer que la columna Country Code sea el índice de las filas:"
   ]
  },
  {
   "cell_type": "code",
   "execution_count": 12,
   "metadata": {},
   "outputs": [],
   "source": [
    "central_govt_debt.index = central_govt_debt['Country Code']\n",
    "military_exp.index = military_exp['Country Code']"
   ]
  },
  {
   "attachments": {},
   "cell_type": "markdown",
   "metadata": {},
   "source": [
    "Concateno estos dos dataframes, tomando columnas 2010 no vacías de central_govt_debt y military_exp. "
   ]
  },
  {
   "cell_type": "code",
   "execution_count": 13,
   "metadata": {},
   "outputs": [],
   "source": [
    "central_govt_debt_2010 = central_govt_debt['2010'].loc[~pd.isnull(central_govt_debt['2010'])]\n",
    "military_exp_2010 = military_exp['2010'].loc[~pd.isnull(military_exp['2010'])]\n",
    "data_to_plot = pd.concat((central_govt_debt_2010, military_exp_2010), axis=1) #axis=1 porque estoy uniendo columnas\n",
    "data_to_plot.columns = ['central_govt_debt', 'military_exp']"
   ]
  },
  {
   "cell_type": "code",
   "execution_count": 14,
   "metadata": {},
   "outputs": [
    {
     "data": {
      "text/html": [
       "<div>\n",
       "<style scoped>\n",
       "    .dataframe tbody tr th:only-of-type {\n",
       "        vertical-align: middle;\n",
       "    }\n",
       "\n",
       "    .dataframe tbody tr th {\n",
       "        vertical-align: top;\n",
       "    }\n",
       "\n",
       "    .dataframe thead th {\n",
       "        text-align: right;\n",
       "    }\n",
       "</style>\n",
       "<table border=\"1\" class=\"dataframe\">\n",
       "  <thead>\n",
       "    <tr style=\"text-align: right;\">\n",
       "      <th></th>\n",
       "      <th>central_govt_debt</th>\n",
       "      <th>military_exp</th>\n",
       "    </tr>\n",
       "    <tr>\n",
       "      <th>Country Code</th>\n",
       "      <th></th>\n",
       "      <th></th>\n",
       "    </tr>\n",
       "  </thead>\n",
       "  <tbody>\n",
       "    <tr>\n",
       "      <th>CEB</th>\n",
       "      <td>47.446156</td>\n",
       "      <td>1.482543</td>\n",
       "    </tr>\n",
       "    <tr>\n",
       "      <th>EMU</th>\n",
       "      <td>72.414709</td>\n",
       "      <td>1.618759</td>\n",
       "    </tr>\n",
       "    <tr>\n",
       "      <th>ECS</th>\n",
       "      <td>63.137736</td>\n",
       "      <td>1.860343</td>\n",
       "    </tr>\n",
       "    <tr>\n",
       "      <th>ECA</th>\n",
       "      <td>22.338687</td>\n",
       "      <td>2.933044</td>\n",
       "    </tr>\n",
       "    <tr>\n",
       "      <th>TEC</th>\n",
       "      <td>27.287492</td>\n",
       "      <td>2.785617</td>\n",
       "    </tr>\n",
       "  </tbody>\n",
       "</table>\n",
       "</div>"
      ],
      "text/plain": [
       "              central_govt_debt  military_exp\n",
       "Country Code                                 \n",
       "CEB                   47.446156      1.482543\n",
       "EMU                   72.414709      1.618759\n",
       "ECS                   63.137736      1.860343\n",
       "ECA                   22.338687      2.933044\n",
       "TEC                   27.287492      2.785617"
      ]
     },
     "execution_count": 14,
     "metadata": {},
     "output_type": "execute_result"
    }
   ],
   "source": [
    "data_to_plot.head()"
   ]
  },
  {
   "cell_type": "code",
   "execution_count": 15,
   "metadata": {},
   "outputs": [
    {
     "data": {
      "text/plain": [
       "(202, 2)"
      ]
     },
     "execution_count": 15,
     "metadata": {},
     "output_type": "execute_result"
    }
   ],
   "source": [
    "data_to_plot.shape"
   ]
  },
  {
   "attachments": {},
   "cell_type": "markdown",
   "metadata": {},
   "source": [
    "Ahora grafico lo anterior sólo aquellos países que tienen tanto deuda del gobierno central como gasto militar."
   ]
  },
  {
   "cell_type": "code",
   "execution_count": 16,
   "metadata": {},
   "outputs": [],
   "source": [
    "data_to_plot = data_to_plot.loc[(~pd.isnull(data_to_plot.central_govt_debt)) & (~pd.isnull(data_to_plot.military_exp)), :]"
   ]
  },
  {
   "cell_type": "code",
   "execution_count": 17,
   "metadata": {},
   "outputs": [
    {
     "data": {
      "text/html": [
       "<div>\n",
       "<style scoped>\n",
       "    .dataframe tbody tr th:only-of-type {\n",
       "        vertical-align: middle;\n",
       "    }\n",
       "\n",
       "    .dataframe tbody tr th {\n",
       "        vertical-align: top;\n",
       "    }\n",
       "\n",
       "    .dataframe thead th {\n",
       "        text-align: right;\n",
       "    }\n",
       "</style>\n",
       "<table border=\"1\" class=\"dataframe\">\n",
       "  <thead>\n",
       "    <tr style=\"text-align: right;\">\n",
       "      <th></th>\n",
       "      <th>central_govt_debt</th>\n",
       "      <th>military_exp</th>\n",
       "    </tr>\n",
       "    <tr>\n",
       "      <th>Country Code</th>\n",
       "      <th></th>\n",
       "      <th></th>\n",
       "    </tr>\n",
       "  </thead>\n",
       "  <tbody>\n",
       "    <tr>\n",
       "      <th>CEB</th>\n",
       "      <td>47.446156</td>\n",
       "      <td>1.482543</td>\n",
       "    </tr>\n",
       "    <tr>\n",
       "      <th>EMU</th>\n",
       "      <td>72.414709</td>\n",
       "      <td>1.618759</td>\n",
       "    </tr>\n",
       "    <tr>\n",
       "      <th>ECS</th>\n",
       "      <td>63.137736</td>\n",
       "      <td>1.860343</td>\n",
       "    </tr>\n",
       "    <tr>\n",
       "      <th>ECA</th>\n",
       "      <td>22.338687</td>\n",
       "      <td>2.933044</td>\n",
       "    </tr>\n",
       "    <tr>\n",
       "      <th>TEC</th>\n",
       "      <td>27.287492</td>\n",
       "      <td>2.785617</td>\n",
       "    </tr>\n",
       "  </tbody>\n",
       "</table>\n",
       "</div>"
      ],
      "text/plain": [
       "              central_govt_debt  military_exp\n",
       "Country Code                                 \n",
       "CEB                   47.446156      1.482543\n",
       "EMU                   72.414709      1.618759\n",
       "ECS                   63.137736      1.860343\n",
       "ECA                   22.338687      2.933044\n",
       "TEC                   27.287492      2.785617"
      ]
     },
     "execution_count": 17,
     "metadata": {},
     "output_type": "execute_result"
    }
   ],
   "source": [
    "data_to_plot.head()"
   ]
  },
  {
   "cell_type": "code",
   "execution_count": 18,
   "metadata": {},
   "outputs": [
    {
     "data": {
      "text/plain": [
       "(84, 2)"
      ]
     },
     "execution_count": 18,
     "metadata": {},
     "output_type": "execute_result"
    }
   ],
   "source": [
    "data_to_plot.shape"
   ]
  },
  {
   "cell_type": "code",
   "execution_count": 19,
   "metadata": {},
   "outputs": [],
   "source": [
    "military_exp_np = np.array(data_to_plot.military_exp)"
   ]
  },
  {
   "cell_type": "code",
   "execution_count": 20,
   "metadata": {},
   "outputs": [
    {
     "data": {
      "image/png": "[encoded data removed]",
      "text/plain": [
       "<Figure size 396x396 with 1 Axes>"
      ]
     },
     "metadata": {
      "needs_background": "light"
     },
     "output_type": "display_data"
    }
   ],
   "source": [
    "plt.figure(figsize=(5.5, 5.5))\n",
    "g = sns.distplot(military_exp_np, norm_hist=False)\n",
    "g.set_title('Military expenditure (% of GDP) of 85 countries in 2010');\n",
    "plt.xlabel(\"Military expenditure (% of GDP)\");"
   ]
  },
  {
   "attachments": {},
   "cell_type": "markdown",
   "metadata": {},
   "source": [
    "En el histograma y curva de densidad anterior podemos ver gráficamente que la mayoría de países tienen un gasto militar (expresado como porcentaje del GDP) entre 1 y 2%"
   ]
  },
  {
   "cell_type": "code",
   "execution_count": 21,
   "metadata": {},
   "outputs": [
    {
     "data": {
      "image/png": "[encoded data removed]",
      "text/plain": [
       "<Figure size 432x288 with 1 Axes>"
      ]
     },
     "metadata": {
      "needs_background": "light"
     },
     "output_type": "display_data"
    }
   ],
   "source": [
    "from statsmodels.graphics.gofplots import qqplot\n",
    "\n",
    "qqplot(military_exp_np, line='s');"
   ]
  },
  {
   "attachments": {},
   "cell_type": "markdown",
   "metadata": {},
   "source": [
    "Del gráfico anterior se podría inferir que los puntos se hubican alrededor de la línea diagonal."
   ]
  },
  {
   "attachments": {},
   "cell_type": "markdown",
   "metadata": {},
   "source": [
    "Prueba de normalidad Sahpiro-Wilks"
   ]
  },
  {
   "cell_type": "code",
   "execution_count": 22,
   "metadata": {},
   "outputs": [
    {
     "name": "stdout",
     "output_type": "stream",
     "text": [
      "Statistics=0.857, p=0.000\n",
      "Sample does not look Normal (reject H0)\n"
     ]
    }
   ],
   "source": [
    "from scipy.stats import shapiro\n",
    "\n",
    "stat, p = shapiro(military_exp_np)\n",
    "print('Statistics=%.3f, p=%.3f' % (stat, p))\n",
    "\n",
    "alpha = 0.05\n",
    "if p > alpha:\n",
    " print('Sample looks Normal (fail to reject H0)')\n",
    "else:\n",
    " print('Sample does not look Normal (reject H0)')"
   ]
  },
  {
   "attachments": {},
   "cell_type": "markdown",
   "metadata": {},
   "source": [
    "Prueba de Kurtosis"
   ]
  },
  {
   "cell_type": "code",
   "execution_count": 23,
   "metadata": {},
   "outputs": [
    {
     "name": "stdout",
     "output_type": "stream",
     "text": [
      "Statistics=49.874, p=0.000\n",
      "Sample does not look Gaussian (reject H0)\n",
      "Kurtosis=6.122\n",
      "Skew=1.916\n"
     ]
    }
   ],
   "source": [
    "from scipy.stats import normaltest, kurtosis, skew\n",
    "\n",
    "stat, p = normaltest(military_exp_np)\n",
    "print('Statistics=%.3f, p=%.3f' % (stat, p))\n",
    "\n",
    "alpha = 0.05\n",
    "if p > alpha:\n",
    " print('Sample looks Gaussian (fail to reject H0)')\n",
    "else:\n",
    " print('Sample does not look Gaussian (reject H0)')\n",
    "\n",
    "print('Kurtosis=%.3f'%kurtosis(military_exp_np))\n",
    "print('Skew=%.3f'%skew(military_exp_np))"
   ]
  },
  {
   "cell_type": "code",
   "execution_count": 24,
   "metadata": {},
   "outputs": [
    {
     "data": {
      "image/png": "[encoded data removed]",
      "text/plain": [
       "<Figure size 396x396 with 1 Axes>"
      ]
     },
     "metadata": {
      "needs_background": "light"
     },
     "output_type": "display_data"
    }
   ],
   "source": [
    "plt.figure(figsize=(5.5, 5.5))\n",
    "g = sns.kdeplot(data_to_plot, x = \"military_exp\", y = \"central_govt_debt\", fill=True)\n",
    "g.set_title('Military expenditures & Debt of central governments in 2010');\n",
    "plt.xlabel(\"Military expenditure\");\n",
    "plt.ylabel(\"Debt of central governments\");"
   ]
  },
  {
   "attachments": {},
   "cell_type": "markdown",
   "metadata": {},
   "source": [
    "Con el gráfico de distribución bivariado anterior vemos que hay una concentración en la combinación de 2% de gasto militar con 50 de deuda del gobierno central."
   ]
  },
  {
   "attachments": {},
   "cell_type": "markdown",
   "metadata": {},
   "source": [
    "# Datos de series temporales"
   ]
  },
  {
   "attachments": {},
   "cell_type": "markdown",
   "metadata": {},
   "source": [
    "El paso 1 es crear dos nuevas series para representar las series temporales de gastos militares y deuda del gobierno central de los Estados Unidos desde 1960 hasta 2010"
   ]
  },
  {
   "cell_type": "code",
   "execution_count": 25,
   "metadata": {},
   "outputs": [],
   "source": [
    "central_govt_debt_us = central_govt_debt.loc[central_govt_debt['Country Code']=='USA', :].T\n",
    "military_exp_us = military_exp.loc[military_exp['Country Code']=='USA', :].T"
   ]
  },
  {
   "attachments": {},
   "cell_type": "markdown",
   "metadata": {},
   "source": [
    "Los dos objetos creados en el código anterior se fusionan para formar un único DataFrame y se cortan para contener los datos de los años 2001 a 2010:"
   ]
  },
  {
   "cell_type": "code",
   "execution_count": 26,
   "metadata": {},
   "outputs": [
    {
     "data": {
      "text/html": [
       "<div>\n",
       "<style scoped>\n",
       "    .dataframe tbody tr th:only-of-type {\n",
       "        vertical-align: middle;\n",
       "    }\n",
       "\n",
       "    .dataframe tbody tr th {\n",
       "        vertical-align: top;\n",
       "    }\n",
       "\n",
       "    .dataframe thead th {\n",
       "        text-align: right;\n",
       "    }\n",
       "</style>\n",
       "<table border=\"1\" class=\"dataframe\">\n",
       "  <thead>\n",
       "    <tr style=\"text-align: right;\">\n",
       "      <th></th>\n",
       "      <th>Federal Military Expenditure</th>\n",
       "      <th>Debt of Federal Government</th>\n",
       "    </tr>\n",
       "  </thead>\n",
       "  <tbody>\n",
       "    <tr>\n",
       "      <th>1960</th>\n",
       "      <td>8.35266</td>\n",
       "      <td>NaN</td>\n",
       "    </tr>\n",
       "    <tr>\n",
       "      <th>1961</th>\n",
       "      <td>8.487129</td>\n",
       "      <td>NaN</td>\n",
       "    </tr>\n",
       "    <tr>\n",
       "      <th>1962</th>\n",
       "      <td>8.656586</td>\n",
       "      <td>NaN</td>\n",
       "    </tr>\n",
       "    <tr>\n",
       "      <th>1963</th>\n",
       "      <td>8.189007</td>\n",
       "      <td>NaN</td>\n",
       "    </tr>\n",
       "    <tr>\n",
       "      <th>1964</th>\n",
       "      <td>7.467629</td>\n",
       "      <td>NaN</td>\n",
       "    </tr>\n",
       "  </tbody>\n",
       "</table>\n",
       "</div>"
      ],
      "text/plain": [
       "     Federal Military Expenditure Debt of Federal Government\n",
       "1960                      8.35266                        NaN\n",
       "1961                     8.487129                        NaN\n",
       "1962                     8.656586                        NaN\n",
       "1963                     8.189007                        NaN\n",
       "1964                     7.467629                        NaN"
      ]
     },
     "execution_count": 26,
     "metadata": {},
     "output_type": "execute_result"
    }
   ],
   "source": [
    "data_us = pd.concat((military_exp_us, central_govt_debt_us), axis=1)\n",
    "index0 = np.where(data_us.index=='1960')[0][0]\n",
    "index1 = np.where(data_us.index=='2010')[0][0]\n",
    "data_us = data_us.iloc[index0:index1+1,:]\n",
    "data_us.columns = ['Federal Military Expenditure', 'Debt of Federal Government']\n",
    "data_us.head()"
   ]
  },
  {
   "attachments": {},
   "cell_type": "markdown",
   "metadata": {},
   "source": [
    "Los métodos isna() o isnull() sirven para detectar los valores que faltan en los datos. Para obtener el total de valores perdidos en cada columna se utiliza sum() o se puede tomar la media con mean()."
   ]
  },
  {
   "cell_type": "code",
   "execution_count": 27,
   "metadata": {},
   "outputs": [
    {
     "data": {
      "text/plain": [
       "Federal Military Expenditure     0\n",
       "Debt of Federal Government      29\n",
       "dtype: int64"
      ]
     },
     "execution_count": 27,
     "metadata": {},
     "output_type": "execute_result"
    }
   ],
   "source": [
    "data_us.isna().sum()"
   ]
  },
  {
   "cell_type": "code",
   "execution_count": 28,
   "metadata": {},
   "outputs": [
    {
     "data": {
      "text/plain": [
       "Federal Military Expenditure     0.000000\n",
       "Debt of Federal Government      56.862745\n",
       "dtype: float64"
      ]
     },
     "execution_count": 28,
     "metadata": {},
     "output_type": "execute_result"
    }
   ],
   "source": [
    "data_us.isnull().mean()*100"
   ]
  },
  {
   "cell_type": "code",
   "execution_count": 29,
   "metadata": {},
   "outputs": [
    {
     "data": {
      "text/html": [
       "<div>\n",
       "<style scoped>\n",
       "    .dataframe tbody tr th:only-of-type {\n",
       "        vertical-align: middle;\n",
       "    }\n",
       "\n",
       "    .dataframe tbody tr th {\n",
       "        vertical-align: top;\n",
       "    }\n",
       "\n",
       "    .dataframe thead th {\n",
       "        text-align: right;\n",
       "    }\n",
       "</style>\n",
       "<table border=\"1\" class=\"dataframe\">\n",
       "  <thead>\n",
       "    <tr style=\"text-align: right;\">\n",
       "      <th></th>\n",
       "      <th>Federal Military Expenditure</th>\n",
       "      <th>Debt of Federal Government</th>\n",
       "      <th>backward_fill</th>\n",
       "    </tr>\n",
       "  </thead>\n",
       "  <tbody>\n",
       "    <tr>\n",
       "      <th>1960</th>\n",
       "      <td>8.35266</td>\n",
       "      <td>NaN</td>\n",
       "      <td>39.016963</td>\n",
       "    </tr>\n",
       "    <tr>\n",
       "      <th>1961</th>\n",
       "      <td>8.487129</td>\n",
       "      <td>NaN</td>\n",
       "      <td>39.016963</td>\n",
       "    </tr>\n",
       "    <tr>\n",
       "      <th>1962</th>\n",
       "      <td>8.656586</td>\n",
       "      <td>NaN</td>\n",
       "      <td>39.016963</td>\n",
       "    </tr>\n",
       "    <tr>\n",
       "      <th>1963</th>\n",
       "      <td>8.189007</td>\n",
       "      <td>NaN</td>\n",
       "      <td>39.016963</td>\n",
       "    </tr>\n",
       "    <tr>\n",
       "      <th>1964</th>\n",
       "      <td>7.467629</td>\n",
       "      <td>NaN</td>\n",
       "      <td>39.016963</td>\n",
       "    </tr>\n",
       "  </tbody>\n",
       "</table>\n",
       "</div>"
      ],
      "text/plain": [
       "     Federal Military Expenditure Debt of Federal Government  backward_fill\n",
       "1960                      8.35266                        NaN      39.016963\n",
       "1961                     8.487129                        NaN      39.016963\n",
       "1962                     8.656586                        NaN      39.016963\n",
       "1963                     8.189007                        NaN      39.016963\n",
       "1964                     7.467629                        NaN      39.016963"
      ]
     },
     "execution_count": 29,
     "metadata": {},
     "output_type": "execute_result"
    }
   ],
   "source": [
    "data_us['backward_fill'] = data_us['Debt of Federal Government'].bfill()\n",
    "data_us.head()"
   ]
  },
  {
   "cell_type": "code",
   "execution_count": 30,
   "metadata": {},
   "outputs": [
    {
     "data": {
      "text/html": [
       "<div>\n",
       "<style scoped>\n",
       "    .dataframe tbody tr th:only-of-type {\n",
       "        vertical-align: middle;\n",
       "    }\n",
       "\n",
       "    .dataframe tbody tr th {\n",
       "        vertical-align: top;\n",
       "    }\n",
       "\n",
       "    .dataframe thead th {\n",
       "        text-align: right;\n",
       "    }\n",
       "</style>\n",
       "<table border=\"1\" class=\"dataframe\">\n",
       "  <thead>\n",
       "    <tr style=\"text-align: right;\">\n",
       "      <th></th>\n",
       "      <th>Federal Military Expenditure</th>\n",
       "      <th>Debt of Federal Government</th>\n",
       "      <th>backward_fill</th>\n",
       "      <th>mean_fill</th>\n",
       "    </tr>\n",
       "  </thead>\n",
       "  <tbody>\n",
       "    <tr>\n",
       "      <th>1960</th>\n",
       "      <td>8.35266</td>\n",
       "      <td>NaN</td>\n",
       "      <td>39.016963</td>\n",
       "      <td>51.155537</td>\n",
       "    </tr>\n",
       "    <tr>\n",
       "      <th>1961</th>\n",
       "      <td>8.487129</td>\n",
       "      <td>NaN</td>\n",
       "      <td>39.016963</td>\n",
       "      <td>51.155537</td>\n",
       "    </tr>\n",
       "    <tr>\n",
       "      <th>1962</th>\n",
       "      <td>8.656586</td>\n",
       "      <td>NaN</td>\n",
       "      <td>39.016963</td>\n",
       "      <td>51.155537</td>\n",
       "    </tr>\n",
       "    <tr>\n",
       "      <th>1963</th>\n",
       "      <td>8.189007</td>\n",
       "      <td>NaN</td>\n",
       "      <td>39.016963</td>\n",
       "      <td>51.155537</td>\n",
       "    </tr>\n",
       "    <tr>\n",
       "      <th>1964</th>\n",
       "      <td>7.467629</td>\n",
       "      <td>NaN</td>\n",
       "      <td>39.016963</td>\n",
       "      <td>51.155537</td>\n",
       "    </tr>\n",
       "  </tbody>\n",
       "</table>\n",
       "</div>"
      ],
      "text/plain": [
       "     Federal Military Expenditure Debt of Federal Government  backward_fill  \\\n",
       "1960                      8.35266                        NaN      39.016963   \n",
       "1961                     8.487129                        NaN      39.016963   \n",
       "1962                     8.656586                        NaN      39.016963   \n",
       "1963                     8.189007                        NaN      39.016963   \n",
       "1964                     7.467629                        NaN      39.016963   \n",
       "\n",
       "      mean_fill  \n",
       "1960  51.155537  \n",
       "1961  51.155537  \n",
       "1962  51.155537  \n",
       "1963  51.155537  \n",
       "1964  51.155537  "
      ]
     },
     "execution_count": 30,
     "metadata": {},
     "output_type": "execute_result"
    }
   ],
   "source": [
    "data_us['mean_fill'] = data_us['Debt of Federal Government'].mean()\n",
    "data_us.head()"
   ]
  },
  {
   "cell_type": "code",
   "execution_count": 31,
   "metadata": {},
   "outputs": [
    {
     "data": {
      "text/html": [
       "<div>\n",
       "<style scoped>\n",
       "    .dataframe tbody tr th:only-of-type {\n",
       "        vertical-align: middle;\n",
       "    }\n",
       "\n",
       "    .dataframe tbody tr th {\n",
       "        vertical-align: top;\n",
       "    }\n",
       "\n",
       "    .dataframe thead th {\n",
       "        text-align: right;\n",
       "    }\n",
       "</style>\n",
       "<table border=\"1\" class=\"dataframe\">\n",
       "  <thead>\n",
       "    <tr style=\"text-align: right;\">\n",
       "      <th></th>\n",
       "      <th>Federal Military Expenditure</th>\n",
       "      <th>Debt of Federal Government</th>\n",
       "      <th>backward_fill</th>\n",
       "      <th>mean_fill</th>\n",
       "      <th>median_fill</th>\n",
       "    </tr>\n",
       "  </thead>\n",
       "  <tbody>\n",
       "    <tr>\n",
       "      <th>1960</th>\n",
       "      <td>8.35266</td>\n",
       "      <td>NaN</td>\n",
       "      <td>39.016963</td>\n",
       "      <td>51.155537</td>\n",
       "      <td>47.659404</td>\n",
       "    </tr>\n",
       "    <tr>\n",
       "      <th>1961</th>\n",
       "      <td>8.487129</td>\n",
       "      <td>NaN</td>\n",
       "      <td>39.016963</td>\n",
       "      <td>51.155537</td>\n",
       "      <td>47.659404</td>\n",
       "    </tr>\n",
       "    <tr>\n",
       "      <th>1962</th>\n",
       "      <td>8.656586</td>\n",
       "      <td>NaN</td>\n",
       "      <td>39.016963</td>\n",
       "      <td>51.155537</td>\n",
       "      <td>47.659404</td>\n",
       "    </tr>\n",
       "    <tr>\n",
       "      <th>1963</th>\n",
       "      <td>8.189007</td>\n",
       "      <td>NaN</td>\n",
       "      <td>39.016963</td>\n",
       "      <td>51.155537</td>\n",
       "      <td>47.659404</td>\n",
       "    </tr>\n",
       "    <tr>\n",
       "      <th>1964</th>\n",
       "      <td>7.467629</td>\n",
       "      <td>NaN</td>\n",
       "      <td>39.016963</td>\n",
       "      <td>51.155537</td>\n",
       "      <td>47.659404</td>\n",
       "    </tr>\n",
       "  </tbody>\n",
       "</table>\n",
       "</div>"
      ],
      "text/plain": [
       "     Federal Military Expenditure Debt of Federal Government  backward_fill  \\\n",
       "1960                      8.35266                        NaN      39.016963   \n",
       "1961                     8.487129                        NaN      39.016963   \n",
       "1962                     8.656586                        NaN      39.016963   \n",
       "1963                     8.189007                        NaN      39.016963   \n",
       "1964                     7.467629                        NaN      39.016963   \n",
       "\n",
       "      mean_fill  median_fill  \n",
       "1960  51.155537    47.659404  \n",
       "1961  51.155537    47.659404  \n",
       "1962  51.155537    47.659404  \n",
       "1963  51.155537    47.659404  \n",
       "1964  51.155537    47.659404  "
      ]
     },
     "execution_count": 31,
     "metadata": {},
     "output_type": "execute_result"
    }
   ],
   "source": [
    "data_us['median_fill'] = data_us['Debt of Federal Government'].median()\n",
    "data_us.head()"
   ]
  },
  {
   "cell_type": "code",
   "execution_count": 32,
   "metadata": {},
   "outputs": [
    {
     "data": {
      "text/html": [
       "<div>\n",
       "<style scoped>\n",
       "    .dataframe tbody tr th:only-of-type {\n",
       "        vertical-align: middle;\n",
       "    }\n",
       "\n",
       "    .dataframe tbody tr th {\n",
       "        vertical-align: top;\n",
       "    }\n",
       "\n",
       "    .dataframe thead th {\n",
       "        text-align: right;\n",
       "    }\n",
       "</style>\n",
       "<table border=\"1\" class=\"dataframe\">\n",
       "  <thead>\n",
       "    <tr style=\"text-align: right;\">\n",
       "      <th></th>\n",
       "      <th>Federal Military Expenditure</th>\n",
       "      <th>Debt of Federal Government</th>\n",
       "      <th>backward_fill</th>\n",
       "      <th>mean_fill</th>\n",
       "      <th>median_fill</th>\n",
       "      <th>quadratic_fill</th>\n",
       "    </tr>\n",
       "  </thead>\n",
       "  <tbody>\n",
       "    <tr>\n",
       "      <th>1960</th>\n",
       "      <td>8.35266</td>\n",
       "      <td>NaN</td>\n",
       "      <td>39.016963</td>\n",
       "      <td>51.155537</td>\n",
       "      <td>47.659404</td>\n",
       "      <td>NaN</td>\n",
       "    </tr>\n",
       "    <tr>\n",
       "      <th>1961</th>\n",
       "      <td>8.487129</td>\n",
       "      <td>NaN</td>\n",
       "      <td>39.016963</td>\n",
       "      <td>51.155537</td>\n",
       "      <td>47.659404</td>\n",
       "      <td>NaN</td>\n",
       "    </tr>\n",
       "    <tr>\n",
       "      <th>1962</th>\n",
       "      <td>8.656586</td>\n",
       "      <td>NaN</td>\n",
       "      <td>39.016963</td>\n",
       "      <td>51.155537</td>\n",
       "      <td>47.659404</td>\n",
       "      <td>NaN</td>\n",
       "    </tr>\n",
       "    <tr>\n",
       "      <th>1963</th>\n",
       "      <td>8.189007</td>\n",
       "      <td>NaN</td>\n",
       "      <td>39.016963</td>\n",
       "      <td>51.155537</td>\n",
       "      <td>47.659404</td>\n",
       "      <td>NaN</td>\n",
       "    </tr>\n",
       "    <tr>\n",
       "      <th>1964</th>\n",
       "      <td>7.467629</td>\n",
       "      <td>NaN</td>\n",
       "      <td>39.016963</td>\n",
       "      <td>51.155537</td>\n",
       "      <td>47.659404</td>\n",
       "      <td>NaN</td>\n",
       "    </tr>\n",
       "  </tbody>\n",
       "</table>\n",
       "</div>"
      ],
      "text/plain": [
       "     Federal Military Expenditure Debt of Federal Government  backward_fill  \\\n",
       "1960                      8.35266                        NaN      39.016963   \n",
       "1961                     8.487129                        NaN      39.016963   \n",
       "1962                     8.656586                        NaN      39.016963   \n",
       "1963                     8.189007                        NaN      39.016963   \n",
       "1964                     7.467629                        NaN      39.016963   \n",
       "\n",
       "      mean_fill  median_fill quadratic_fill  \n",
       "1960  51.155537    47.659404            NaN  \n",
       "1961  51.155537    47.659404            NaN  \n",
       "1962  51.155537    47.659404            NaN  \n",
       "1963  51.155537    47.659404            NaN  \n",
       "1964  51.155537    47.659404            NaN  "
      ]
     },
     "execution_count": 32,
     "metadata": {},
     "output_type": "execute_result"
    }
   ],
   "source": [
    "data_us['quadratic_fill'] = data_us['Debt of Federal Government'].interpolate(option='quadratic')\n",
    "data_us.head()"
   ]
  },
  {
   "attachments": {},
   "cell_type": "markdown",
   "metadata": {},
   "source": [
    "quadratic_fill es un método de imputación que mantiene los valores NaN. Esta técina ofrece las siguientes versiones de imputación: 'nearest', 'zero', 'slinear', 'quadratic', 'cubic', 'spline', 'barycentric', 'polynomial'. Dado que no se dispone solamente de datos sobre la deuda federal de varios años a partir de 1960, y se necesitan las dos dimensiones, otra opción es eliminar las filas con valores del Dataframe data_us antes de trazar la serie temporal"
   ]
  },
  {
   "cell_type": "code",
   "execution_count": 33,
   "metadata": {},
   "outputs": [
    {
     "name": "stdout",
     "output_type": "stream",
     "text": [
      "Shape of data_us: (22, 6)\n"
     ]
    }
   ],
   "source": [
    "data_us.dropna(inplace=True)\n",
    "print('Shape of data_us:', data_us.shape)"
   ]
  },
  {
   "cell_type": "code",
   "execution_count": 34,
   "metadata": {},
   "outputs": [
    {
     "data": {
      "text/html": [
       "<div>\n",
       "<style scoped>\n",
       "    .dataframe tbody tr th:only-of-type {\n",
       "        vertical-align: middle;\n",
       "    }\n",
       "\n",
       "    .dataframe tbody tr th {\n",
       "        vertical-align: top;\n",
       "    }\n",
       "\n",
       "    .dataframe thead th {\n",
       "        text-align: right;\n",
       "    }\n",
       "</style>\n",
       "<table border=\"1\" class=\"dataframe\">\n",
       "  <thead>\n",
       "    <tr style=\"text-align: right;\">\n",
       "      <th></th>\n",
       "      <th>Federal Military Expenditure</th>\n",
       "      <th>Debt of Federal Government</th>\n",
       "      <th>backward_fill</th>\n",
       "      <th>mean_fill</th>\n",
       "      <th>median_fill</th>\n",
       "      <th>quadratic_fill</th>\n",
       "    </tr>\n",
       "  </thead>\n",
       "  <tbody>\n",
       "    <tr>\n",
       "      <th>1989</th>\n",
       "      <td>5.374717</td>\n",
       "      <td>39.016963</td>\n",
       "      <td>39.016963</td>\n",
       "      <td>51.155537</td>\n",
       "      <td>47.659404</td>\n",
       "      <td>39.016963</td>\n",
       "    </tr>\n",
       "    <tr>\n",
       "      <th>1990</th>\n",
       "      <td>5.120252</td>\n",
       "      <td>40.821367</td>\n",
       "      <td>40.821367</td>\n",
       "      <td>51.155537</td>\n",
       "      <td>47.659404</td>\n",
       "      <td>40.821367</td>\n",
       "    </tr>\n",
       "    <tr>\n",
       "      <th>1991</th>\n",
       "      <td>4.539845</td>\n",
       "      <td>43.948026</td>\n",
       "      <td>43.948026</td>\n",
       "      <td>51.155537</td>\n",
       "      <td>47.659404</td>\n",
       "      <td>43.948026</td>\n",
       "    </tr>\n",
       "    <tr>\n",
       "      <th>1992</th>\n",
       "      <td>4.666265</td>\n",
       "      <td>45.916542</td>\n",
       "      <td>45.916542</td>\n",
       "      <td>51.155537</td>\n",
       "      <td>47.659404</td>\n",
       "      <td>45.916542</td>\n",
       "    </tr>\n",
       "    <tr>\n",
       "      <th>1993</th>\n",
       "      <td>4.326925</td>\n",
       "      <td>48.104749</td>\n",
       "      <td>48.104749</td>\n",
       "      <td>51.155537</td>\n",
       "      <td>47.659404</td>\n",
       "      <td>48.104749</td>\n",
       "    </tr>\n",
       "    <tr>\n",
       "      <th>1994</th>\n",
       "      <td>3.941287</td>\n",
       "      <td>47.21406</td>\n",
       "      <td>47.214060</td>\n",
       "      <td>51.155537</td>\n",
       "      <td>47.659404</td>\n",
       "      <td>47.21406</td>\n",
       "    </tr>\n",
       "    <tr>\n",
       "      <th>1995</th>\n",
       "      <td>3.638489</td>\n",
       "      <td>47.059783</td>\n",
       "      <td>47.059783</td>\n",
       "      <td>51.155537</td>\n",
       "      <td>47.659404</td>\n",
       "      <td>47.059783</td>\n",
       "    </tr>\n",
       "    <tr>\n",
       "      <th>1996</th>\n",
       "      <td>3.350744</td>\n",
       "      <td>46.585511</td>\n",
       "      <td>46.585511</td>\n",
       "      <td>51.155537</td>\n",
       "      <td>47.659404</td>\n",
       "      <td>46.585511</td>\n",
       "    </tr>\n",
       "    <tr>\n",
       "      <th>1997</th>\n",
       "      <td>3.209903</td>\n",
       "      <td>43.958801</td>\n",
       "      <td>43.958801</td>\n",
       "      <td>51.155537</td>\n",
       "      <td>47.659404</td>\n",
       "      <td>43.958801</td>\n",
       "    </tr>\n",
       "    <tr>\n",
       "      <th>1998</th>\n",
       "      <td>3.017636</td>\n",
       "      <td>41.009914</td>\n",
       "      <td>41.009914</td>\n",
       "      <td>51.155537</td>\n",
       "      <td>47.659404</td>\n",
       "      <td>41.009914</td>\n",
       "    </tr>\n",
       "  </tbody>\n",
       "</table>\n",
       "</div>"
      ],
      "text/plain": [
       "     Federal Military Expenditure Debt of Federal Government  backward_fill  \\\n",
       "1989                     5.374717                  39.016963      39.016963   \n",
       "1990                     5.120252                  40.821367      40.821367   \n",
       "1991                     4.539845                  43.948026      43.948026   \n",
       "1992                     4.666265                  45.916542      45.916542   \n",
       "1993                     4.326925                  48.104749      48.104749   \n",
       "1994                     3.941287                   47.21406      47.214060   \n",
       "1995                     3.638489                  47.059783      47.059783   \n",
       "1996                     3.350744                  46.585511      46.585511   \n",
       "1997                     3.209903                  43.958801      43.958801   \n",
       "1998                     3.017636                  41.009914      41.009914   \n",
       "\n",
       "      mean_fill  median_fill quadratic_fill  \n",
       "1989  51.155537    47.659404      39.016963  \n",
       "1990  51.155537    47.659404      40.821367  \n",
       "1991  51.155537    47.659404      43.948026  \n",
       "1992  51.155537    47.659404      45.916542  \n",
       "1993  51.155537    47.659404      48.104749  \n",
       "1994  51.155537    47.659404       47.21406  \n",
       "1995  51.155537    47.659404      47.059783  \n",
       "1996  51.155537    47.659404      46.585511  \n",
       "1997  51.155537    47.659404      43.958801  \n",
       "1998  51.155537    47.659404      41.009914  "
      ]
     },
     "execution_count": 34,
     "metadata": {},
     "output_type": "execute_result"
    }
   ],
   "source": [
    "data_us.head(10)"
   ]
  },
  {
   "cell_type": "code",
   "execution_count": 35,
   "metadata": {},
   "outputs": [
    {
     "data": {
      "image/png": "[encoded data removed]",
      "text/plain": [
       "<Figure size 396x396 with 2 Axes>"
      ]
     },
     "metadata": {
      "needs_background": "light"
     },
     "output_type": "display_data"
    }
   ],
   "source": [
    "f, axarr = plt.subplots(2, sharex=True)\n",
    "f.set_size_inches(5.5, 5.5)\n",
    "axarr[0].set_title('Federal Military Expenditure during 1988-2010 (% of GDP)')\n",
    "data_us['Federal Military Expenditure'].plot(linestyle='-', marker='*', color='b', ax=axarr[0])\n",
    "axarr[1].set_title('Debt of Federal Government during 1988-2010 (% of GDP)')\n",
    "data_us['Debt of Federal Government'].plot(linestyle='-', marker='*', color='r', ax=axarr[1]);"
   ]
  },
  {
   "attachments": {},
   "cell_type": "markdown",
   "metadata": {},
   "source": [
    "Respecto a la figura anterior, vemos que el tiempo si ha influido en el gasto militar federal y la deuda del gobierno federal. De 1989 al 2000 el gasto federal militar (% GDP) mostró una tendencia decreciente, y a partir de ese año, aumentó. Mientras que la deuda del gobierno federal mostró una tendencia decreciente desde 1993 hasta el 2000, y a partir de este año muestra una tendencia creciente."
   ]
  },
  {
   "attachments": {},
   "cell_type": "markdown",
   "metadata": {},
   "source": [
    "# Datos de panel \n",
    "Datos donde existen varias variables que se comportan como series de tiempo"
   ]
  },
  {
   "attachments": {},
   "cell_type": "markdown",
   "metadata": {},
   "source": [
    "Ahora se consideran cuatro países (China, USA, India y Reino Unido) durante el mismo periodo de 1960-2010. Los datos resultantes serán un conjunto de datos de panel."
   ]
  },
  {
   "cell_type": "code",
   "execution_count": 36,
   "metadata": {},
   "outputs": [
    {
     "data": {
      "text/plain": [
       "Indicator Code    MS.MIL.XPND.GD.ZS\n",
       "1989                       2.499185\n",
       "1990                       2.555996\n",
       "1991                       2.407892\n",
       "1992                       2.518629\n",
       "dtype: object"
      ]
     },
     "execution_count": 36,
     "metadata": {},
     "output_type": "execute_result"
    }
   ],
   "source": [
    "chn = data.loc[(data['Indicator Name']=='Military expenditure (% of GDP)') & \\\n",
    "               (data['Country Code']=='CHN'), :].drop(data.columns[range(3)], axis=1) #China\n",
    "chn = pd.Series(data=chn.values[0], index=chn.columns)\n",
    "chn.dropna(inplace=True)\n",
    "chn.head()"
   ]
  },
  {
   "attachments": {},
   "cell_type": "markdown",
   "metadata": {},
   "source": [
    "El gasto militar se expresa como porcentaje del GDP."
   ]
  },
  {
   "cell_type": "code",
   "execution_count": 37,
   "metadata": {},
   "outputs": [
    {
     "data": {
      "text/plain": [
       "Indicator Code    MS.MIL.XPND.GD.ZS\n",
       "1960                        8.35266\n",
       "1961                       8.487129\n",
       "1962                       8.656586\n",
       "1963                       8.189007\n",
       "dtype: object"
      ]
     },
     "execution_count": 37,
     "metadata": {},
     "output_type": "execute_result"
    }
   ],
   "source": [
    "usa = data.loc[(data['Indicator Name']=='Military expenditure (% of GDP)') & \\\n",
    "               (data['Country Code']=='USA'), :].drop(data.columns[range(3)], axis=1) #USA\n",
    "usa = pd.Series(data=usa.values[0], index=usa.columns)\n",
    "usa.dropna(inplace=True)\n",
    "usa.head()"
   ]
  },
  {
   "cell_type": "code",
   "execution_count": 38,
   "metadata": {},
   "outputs": [
    {
     "data": {
      "text/plain": [
       "Indicator Code    MS.MIL.XPND.GD.ZS\n",
       "1960                       1.866015\n",
       "1961                       1.933365\n",
       "1962                       2.561202\n",
       "1963                       3.758057\n",
       "dtype: object"
      ]
     },
     "execution_count": 38,
     "metadata": {},
     "output_type": "execute_result"
    }
   ],
   "source": [
    "ind = data.loc[(data['Indicator Name']=='Military expenditure (% of GDP)') & \\\n",
    "               (data['Country Code']=='IND'), :].drop(data.columns[range(3)], axis=1) #India\n",
    "ind = pd.Series(data=ind.values[0], index=ind.columns)\n",
    "ind.dropna(inplace=True)\n",
    "ind.head()"
   ]
  },
  {
   "cell_type": "code",
   "execution_count": 39,
   "metadata": {},
   "outputs": [
    {
     "data": {
      "text/plain": [
       "Indicator Code    MS.MIL.XPND.GD.ZS\n",
       "1960                       6.343041\n",
       "1961                       6.190022\n",
       "1962                       6.210394\n",
       "1963                       6.082126\n",
       "dtype: object"
      ]
     },
     "execution_count": 39,
     "metadata": {},
     "output_type": "execute_result"
    }
   ],
   "source": [
    "gbr = data.loc[(data['Indicator Name']=='Military expenditure (% of GDP)') & \\\n",
    "               (data['Country Code']=='GBR'), :].drop(data.columns[range(3)], axis=1) #United Kingdom\n",
    "gbr = pd.Series(data=gbr.values[0], index=gbr.columns)\n",
    "gbr.dropna(inplace=True)\n",
    "gbr.head()"
   ]
  },
  {
   "cell_type": "code",
   "execution_count": 40,
   "metadata": {},
   "outputs": [],
   "source": [
    "n_years = chn.shape[0]"
   ]
  },
  {
   "cell_type": "code",
   "execution_count": 41,
   "metadata": {},
   "outputs": [
    {
     "data": {
      "image/png": "[encoded data removed]",
      "text/plain": [
       "<Figure size 396x396 with 1 Axes>"
      ]
     },
     "metadata": {
      "needs_background": "light"
     },
     "output_type": "display_data"
    }
   ],
   "source": [
    "plt.figure(figsize=(5.5, 5.5))\n",
    "usa[1:n_years].plot(linestyle='-', marker='*', color='b')\n",
    "chn[1:n_years].plot(linestyle='-', marker='*', color='r')\n",
    "gbr[n_years+1:2*n_years].plot(linestyle='-', marker='*', color='g')\n",
    "ind[n_years+1:2*n_years].plot(linestyle='-', marker='*', color='y')\n",
    "plt.legend(['USA','CHINA','UK','INDIA'], loc=1)\n",
    "plt.title('Miltitary expenditure of 5 countries over 10 years')\n",
    "plt.ylabel('Military expenditure (% of GDP)')\n",
    "plt.xlabel('Years');"
   ]
  },
  {
   "attachments": {},
   "cell_type": "markdown",
   "metadata": {},
   "source": [
    "Dentro de los paises analizados, USA es el pais con mayor gasto militar (como % del GDP), mientras China es el pais con menor gasto. El gasto militar más alto de USA en el período de análisis fue el de 1996. El de Reino Unido fue en 1991. El de India fue en 1989, y el de China fue en 1990. Lo 4 países finalizan el período 1989-2016 con menos Gasto militar que con el que iniciaron."
   ]
  },
  {
   "attachments": {},
   "cell_type": "markdown",
   "metadata": {},
   "source": [
    "# Estructuras internas de las series temporales\n",
    "1) Tendencia general"
   ]
  },
  {
   "cell_type": "code",
   "execution_count": 42,
   "metadata": {},
   "outputs": [],
   "source": [
    "import pandas as pd\n",
    "import numpy as np\n",
    "from matplotlib import pyplot as plt\n",
    "import seaborn as sns"
   ]
  },
  {
   "cell_type": "code",
   "execution_count": 43,
   "metadata": {},
   "outputs": [
    {
     "name": "stdout",
     "output_type": "stream",
     "text": [
      "Requirement already satisfied: openpyxl in c:\\users\\caro_\\miniconda3\\lib\\site-packages (3.1.2)\n",
      "Requirement already satisfied: et-xmlfile in c:\\users\\caro_\\miniconda3\\lib\\site-packages (from openpyxl) (1.1.0)\n",
      "Note: you may need to restart the kernel to use updated packages.\n"
     ]
    },
    {
     "name": "stderr",
     "output_type": "stream",
     "text": [
      "WARNING: Ignoring invalid distribution -atplotlib (c:\\users\\caro_\\appdata\\roaming\\python\\python39\\site-packages)\n",
      "WARNING: Ignoring invalid distribution -atplotlib (c:\\users\\caro_\\appdata\\roaming\\python\\python39\\site-packages)\n",
      "WARNING: Ignoring invalid distribution -atplotlib (c:\\users\\caro_\\appdata\\roaming\\python\\python39\\site-packages)\n",
      "WARNING: Ignoring invalid distribution -atplotlib (c:\\users\\caro_\\appdata\\roaming\\python\\python39\\site-packages)\n",
      "WARNING: Ignoring invalid distribution -atplotlib (c:\\users\\caro_\\appdata\\roaming\\python\\python39\\site-packages)\n",
      "WARNING: Ignoring invalid distribution -atplotlib (c:\\users\\caro_\\appdata\\roaming\\python\\python39\\site-packages)\n",
      "\n",
      "[notice] A new release of pip available: 22.3 -> 23.0.1\n",
      "[notice] To update, run: python.exe -m pip install --upgrade pip\n"
     ]
    }
   ],
   "source": [
    "pip install openpyxl"
   ]
  },
  {
   "cell_type": "code",
   "execution_count": 44,
   "metadata": {},
   "outputs": [],
   "source": [
    "data = pd.read_excel('datasets/Monthly_CO2_Concentrations.xlsx', converters={'Year': np.int32, 'Month': np.int32})"
   ]
  },
  {
   "cell_type": "code",
   "execution_count": 45,
   "metadata": {},
   "outputs": [
    {
     "data": {
      "text/html": [
       "<div>\n",
       "<style scoped>\n",
       "    .dataframe tbody tr th:only-of-type {\n",
       "        vertical-align: middle;\n",
       "    }\n",
       "\n",
       "    .dataframe tbody tr th {\n",
       "        vertical-align: top;\n",
       "    }\n",
       "\n",
       "    .dataframe thead th {\n",
       "        text-align: right;\n",
       "    }\n",
       "</style>\n",
       "<table border=\"1\" class=\"dataframe\">\n",
       "  <thead>\n",
       "    <tr style=\"text-align: right;\">\n",
       "      <th></th>\n",
       "      <th>CO2</th>\n",
       "      <th>Year</th>\n",
       "      <th>Month</th>\n",
       "    </tr>\n",
       "  </thead>\n",
       "  <tbody>\n",
       "    <tr>\n",
       "      <th>0</th>\n",
       "      <td>333.13</td>\n",
       "      <td>1974</td>\n",
       "      <td>5</td>\n",
       "    </tr>\n",
       "    <tr>\n",
       "      <th>1</th>\n",
       "      <td>332.09</td>\n",
       "      <td>1974</td>\n",
       "      <td>6</td>\n",
       "    </tr>\n",
       "    <tr>\n",
       "      <th>2</th>\n",
       "      <td>331.10</td>\n",
       "      <td>1974</td>\n",
       "      <td>7</td>\n",
       "    </tr>\n",
       "    <tr>\n",
       "      <th>3</th>\n",
       "      <td>329.14</td>\n",
       "      <td>1974</td>\n",
       "      <td>8</td>\n",
       "    </tr>\n",
       "    <tr>\n",
       "      <th>4</th>\n",
       "      <td>327.36</td>\n",
       "      <td>1974</td>\n",
       "      <td>9</td>\n",
       "    </tr>\n",
       "  </tbody>\n",
       "</table>\n",
       "</div>"
      ],
      "text/plain": [
       "      CO2  Year Month\n",
       "0  333.13  1974     5\n",
       "1  332.09  1974     6\n",
       "2  331.10  1974     7\n",
       "3  329.14  1974     8\n",
       "4  327.36  1974     9"
      ]
     },
     "execution_count": 45,
     "metadata": {},
     "output_type": "execute_result"
    }
   ],
   "source": [
    "data.head()"
   ]
  },
  {
   "attachments": {},
   "cell_type": "markdown",
   "metadata": {},
   "source": [
    "Se creó un índice de filas del DataFrame utilizando las columnas Year y Month"
   ]
  },
  {
   "cell_type": "code",
   "execution_count": 46,
   "metadata": {},
   "outputs": [
    {
     "data": {
      "text/html": [
       "<div>\n",
       "<style scoped>\n",
       "    .dataframe tbody tr th:only-of-type {\n",
       "        vertical-align: middle;\n",
       "    }\n",
       "\n",
       "    .dataframe tbody tr th {\n",
       "        vertical-align: top;\n",
       "    }\n",
       "\n",
       "    .dataframe thead th {\n",
       "        text-align: right;\n",
       "    }\n",
       "</style>\n",
       "<table border=\"1\" class=\"dataframe\">\n",
       "  <thead>\n",
       "    <tr style=\"text-align: right;\">\n",
       "      <th></th>\n",
       "      <th>CO2</th>\n",
       "      <th>Year</th>\n",
       "      <th>Month</th>\n",
       "    </tr>\n",
       "  </thead>\n",
       "  <tbody>\n",
       "    <tr>\n",
       "      <th>1974-05</th>\n",
       "      <td>333.13</td>\n",
       "      <td>1974</td>\n",
       "      <td>5</td>\n",
       "    </tr>\n",
       "    <tr>\n",
       "      <th>1974-06</th>\n",
       "      <td>332.09</td>\n",
       "      <td>1974</td>\n",
       "      <td>6</td>\n",
       "    </tr>\n",
       "    <tr>\n",
       "      <th>1974-07</th>\n",
       "      <td>331.10</td>\n",
       "      <td>1974</td>\n",
       "      <td>7</td>\n",
       "    </tr>\n",
       "    <tr>\n",
       "      <th>1974-08</th>\n",
       "      <td>329.14</td>\n",
       "      <td>1974</td>\n",
       "      <td>8</td>\n",
       "    </tr>\n",
       "    <tr>\n",
       "      <th>1974-09</th>\n",
       "      <td>327.36</td>\n",
       "      <td>1974</td>\n",
       "      <td>9</td>\n",
       "    </tr>\n",
       "  </tbody>\n",
       "</table>\n",
       "</div>"
      ],
      "text/plain": [
       "            CO2  Year Month\n",
       "1974-05  333.13  1974     5\n",
       "1974-06  332.09  1974     6\n",
       "1974-07  331.10  1974     7\n",
       "1974-08  329.14  1974     8\n",
       "1974-09  327.36  1974     9"
      ]
     },
     "execution_count": 46,
     "metadata": {},
     "output_type": "execute_result"
    }
   ],
   "source": [
    "data.index = data['Year'].astype(str) + '-' + data['Month'].astype(str).map(lambda x: '0'+x if len(x) == 1 else x)\n",
    "data.head()"
   ]
  },
  {
   "attachments": {},
   "cell_type": "markdown",
   "metadata": {},
   "source": [
    "Quito los valores nulos"
   ]
  },
  {
   "cell_type": "code",
   "execution_count": 47,
   "metadata": {},
   "outputs": [],
   "source": [
    "data = data.loc[(~pd.isnull(data['CO2'])) & \\\n",
    "                (~pd.isnull(data['Year']))& \\\n",
    "                (~pd.isnull(data['Month']))]"
   ]
  },
  {
   "cell_type": "code",
   "execution_count": 48,
   "metadata": {},
   "outputs": [],
   "source": [
    "data.sort_values(['Year', 'Month'], inplace=True) #inplace true es para que no bote el resultado de la operación"
   ]
  },
  {
   "attachments": {},
   "cell_type": "markdown",
   "metadata": {},
   "source": [
    "Una forma de comprobar la presencia de una tendencia general es trazar la serie temporal, que muestre las concentraciones de CO2 en el aire medidas durante 1974 hasta 1987."
   ]
  },
  {
   "cell_type": "code",
   "execution_count": 49,
   "metadata": {},
   "outputs": [
    {
     "data": {
      "image/png": "[encoded data removed]",
      "text/plain": [
       "<Figure size 396x396 with 1 Axes>"
      ]
     },
     "metadata": {
      "needs_background": "light"
     },
     "output_type": "display_data"
    }
   ],
   "source": [
    "plt.figure(figsize=(5.5, 5.5))\n",
    "data['CO2'].plot(color='b')\n",
    "plt.title('Monthly CO2 concentrations')\n",
    "plt.xlabel('Time')\n",
    "plt.ylabel('CO2 concentratition')\n",
    "plt.xticks(rotation=30);"
   ]
  },
  {
   "attachments": {},
   "cell_type": "markdown",
   "metadata": {},
   "source": [
    "La grafica nos muestra que tenemos una serie de tiempo con tendencia general (hay un patron u onda que se va repitiendo en el tiempo), o al menos en el largo plazo. Si probamos lo mismo pero en el corto plazo (sólo considerando de 1979 a 1981), la tendencia ya no es tan evidente."
   ]
  },
  {
   "cell_type": "code",
   "execution_count": 50,
   "metadata": {},
   "outputs": [
    {
     "data": {
      "image/png": "[encoded data removed]",
      "text/plain": [
       "<Figure size 396x396 with 1 Axes>"
      ]
     },
     "metadata": {
      "needs_background": "light"
     },
     "output_type": "display_data"
    }
   ],
   "source": [
    "plt.figure(figsize=(5.5, 5.5))\n",
    "data['CO2'].loc[(data['Year']==1980) | (data['Year']==1981)].plot(color='b')\n",
    "plt.title('Monthly CO2 concentrations')\n",
    "plt.xlabel('Time')\n",
    "plt.ylabel('CO2 concentratition')\n",
    "plt.xticks(rotation=30);"
   ]
  },
  {
   "attachments": {},
   "cell_type": "markdown",
   "metadata": {},
   "source": [
    "Con un periodo de tiempo mas corto, puede que no se vea la tendencia temporal. En este caso, la tendencia ascendente de las concentraciones de CO2 entre 1974 y 1987 puede deberse al aumento gradual de los automóviles y la industrialización. A continuación, se ajusta la línea de tendencia."
   ]
  },
  {
   "cell_type": "code",
   "execution_count": 51,
   "metadata": {},
   "outputs": [
    {
     "name": "stdout",
     "output_type": "stream",
     "text": [
      "Note: you may need to restart the kernel to use updated packages.\n"
     ]
    },
    {
     "name": "stderr",
     "output_type": "stream",
     "text": [
      "WARNING: Ignoring invalid distribution -atplotlib (c:\\users\\caro_\\appdata\\roaming\\python\\python39\\site-packages)\n",
      "ERROR: Invalid requirement: '#esto'\n",
      "WARNING: Ignoring invalid distribution -atplotlib (c:\\users\\caro_\\appdata\\roaming\\python\\python39\\site-packages)\n",
      "WARNING: Ignoring invalid distribution -atplotlib (c:\\users\\caro_\\appdata\\roaming\\python\\python39\\site-packages)\n",
      "WARNING: Ignoring invalid distribution -atplotlib (c:\\users\\caro_\\appdata\\roaming\\python\\python39\\site-packages)\n",
      "\n",
      "[notice] A new release of pip available: 22.3 -> 23.0.1\n",
      "[notice] To update, run: python.exe -m pip install --upgrade pip\n"
     ]
    }
   ],
   "source": [
    "pip install -U scikit-learn #esto lo instalo para ajustar un modelo lineal al índice temporal"
   ]
  },
  {
   "cell_type": "code",
   "execution_count": 52,
   "metadata": {},
   "outputs": [
    {
     "name": "stdout",
     "output_type": "stream",
     "text": [
      "Requirement already satisfied: pip in c:\\users\\caro_\\appdata\\roaming\\python\\python39\\site-packages (22.3)\n",
      "Collecting pip\n",
      "  Using cached pip-23.0.1-py3-none-any.whl (2.1 MB)\n",
      "Installing collected packages: pip\n",
      "  Attempting uninstall: pip\n",
      "    Found existing installation: pip 22.3\n",
      "    Uninstalling pip-22.3:\n",
      "      Successfully uninstalled pip-22.3\n",
      "  Rolling back uninstall of pip\n",
      "  Moving to c:\\users\\caro_\\appdata\\roaming\\python\\python39\\scripts\\pip.exe\n",
      "   from C:\\Users\\caro_\\AppData\\Local\\Temp\\pip-uninstall-vgijjgmb\\pip.exe\n",
      "  Moving to c:\\users\\caro_\\appdata\\roaming\\python\\python39\\scripts\\pip3.10.exe\n",
      "   from C:\\Users\\caro_\\AppData\\Local\\Temp\\pip-uninstall-vgijjgmb\\pip3.10.exe\n",
      "  Moving to c:\\users\\caro_\\appdata\\roaming\\python\\python39\\scripts\\pip3.9.exe\n",
      "   from C:\\Users\\caro_\\AppData\\Local\\Temp\\pip-uninstall-vgijjgmb\\pip3.9.exe\n",
      "  Moving to c:\\users\\caro_\\appdata\\roaming\\python\\python39\\scripts\\pip3.exe\n",
      "   from C:\\Users\\caro_\\AppData\\Local\\Temp\\pip-uninstall-vgijjgmb\\pip3.exe\n",
      "  Moving to c:\\users\\caro_\\appdata\\roaming\\python\\python39\\site-packages\\pip-22.3.dist-info\\\n",
      "   from C:\\Users\\caro_\\AppData\\Roaming\\Python\\Python39\\site-packages\\~ip-22.3.dist-info\n",
      "  Moving to c:\\users\\caro_\\appdata\\roaming\\python\\python39\\site-packages\\pip\\\n",
      "   from C:\\Users\\caro_\\AppData\\Roaming\\Python\\Python39\\site-packages\\~ip\n",
      "Note: you may need to restart the kernel to use updated packages.\n"
     ]
    },
    {
     "name": "stderr",
     "output_type": "stream",
     "text": [
      "WARNING: Ignoring invalid distribution -atplotlib (c:\\users\\caro_\\appdata\\roaming\\python\\python39\\site-packages)\n",
      "WARNING: Ignoring invalid distribution -atplotlib (c:\\users\\caro_\\appdata\\roaming\\python\\python39\\site-packages)\n",
      "WARNING: Ignoring invalid distribution -atplotlib (c:\\users\\caro_\\appdata\\roaming\\python\\python39\\site-packages)\n",
      "    WARNING: Ignoring invalid distribution -atplotlib (c:\\users\\caro_\\appdata\\roaming\\python\\python39\\site-packages)\n",
      "ERROR: Exception:\n",
      "Traceback (most recent call last):\n",
      "  File \"C:\\Users\\caro_\\AppData\\Roaming\\Python\\Python39\\site-packages\\pip\\_internal\\cli\\base_command.py\", line 160, in exc_logging_wrapper\n",
      "    status = run_func(*args)\n",
      "  File \"C:\\Users\\caro_\\AppData\\Roaming\\Python\\Python39\\site-packages\\pip\\_internal\\cli\\req_command.py\", line 247, in wrapper\n",
      "    return func(self, options, args)\n",
      "  File \"C:\\Users\\caro_\\AppData\\Roaming\\Python\\Python39\\site-packages\\pip\\_internal\\commands\\install.py\", line 494, in run\n",
      "    installed = install_given_reqs(\n",
      "  File \"C:\\Users\\caro_\\AppData\\Roaming\\Python\\Python39\\site-packages\\pip\\_internal\\req\\__init__.py\", line 73, in install_given_reqs\n",
      "    requirement.install(\n",
      "  File \"C:\\Users\\caro_\\AppData\\Roaming\\Python\\Python39\\site-packages\\pip\\_internal\\req\\req_install.py\", line 792, in install\n",
      "    install_wheel(\n",
      "  File \"C:\\Users\\caro_\\AppData\\Roaming\\Python\\Python39\\site-packages\\pip\\_internal\\operations\\install\\wheel.py\", line 729, in install_wheel\n",
      "    _install_wheel(\n",
      "  File \"C:\\Users\\caro_\\AppData\\Roaming\\Python\\Python39\\site-packages\\pip\\_internal\\operations\\install\\wheel.py\", line 646, in _install_wheel\n",
      "    generated_console_scripts = maker.make_multiple(scripts_to_generate)\n",
      "  File \"C:\\Users\\caro_\\AppData\\Roaming\\Python\\Python39\\site-packages\\pip\\_vendor\\distlib\\scripts.py\", line 436, in make_multiple\n",
      "    filenames.extend(self.make(specification, options))\n",
      "  File \"C:\\Users\\caro_\\AppData\\Roaming\\Python\\Python39\\site-packages\\pip\\_internal\\operations\\install\\wheel.py\", line 427, in make\n",
      "    return super().make(specification, options)\n",
      "  File \"C:\\Users\\caro_\\AppData\\Roaming\\Python\\Python39\\site-packages\\pip\\_vendor\\distlib\\scripts.py\", line 425, in make\n",
      "    self._make_script(entry, filenames, options=options)\n",
      "  File \"C:\\Users\\caro_\\AppData\\Roaming\\Python\\Python39\\site-packages\\pip\\_vendor\\distlib\\scripts.py\", line 325, in _make_script\n",
      "    self._write_script(scriptnames, shebang, script, filenames, ext)\n",
      "  File \"C:\\Users\\caro_\\AppData\\Roaming\\Python\\Python39\\site-packages\\pip\\_vendor\\distlib\\scripts.py\", line 249, in _write_script\n",
      "    launcher = self._get_launcher('t')\n",
      "  File \"C:\\Users\\caro_\\AppData\\Roaming\\Python\\Python39\\site-packages\\pip\\_vendor\\distlib\\scripts.py\", line 404, in _get_launcher\n",
      "    raise ValueError(msg)\n",
      "ValueError: Unable to find resource t64.exe in package pip._vendor.distlib\n",
      "WARNING: Ignoring invalid distribution -atplotlib (c:\\users\\caro_\\appdata\\roaming\\python\\python39\\site-packages)\n",
      "WARNING: Ignoring invalid distribution -atplotlib (c:\\users\\caro_\\appdata\\roaming\\python\\python39\\site-packages)\n",
      "WARNING: Ignoring invalid distribution -atplotlib (c:\\users\\caro_\\appdata\\roaming\\python\\python39\\site-packages)\n",
      "\n",
      "[notice] A new release of pip available: 22.3 -> 23.0.1\n",
      "[notice] To update, run: python.exe -m pip install --upgrade pip\n"
     ]
    }
   ],
   "source": [
    "pip install --upgrade pip"
   ]
  },
  {
   "cell_type": "code",
   "execution_count": 53,
   "metadata": {},
   "outputs": [],
   "source": [
    "from sklearn.linear_model import LinearRegression\n",
    "import numpy as np"
   ]
  },
  {
   "cell_type": "code",
   "execution_count": 54,
   "metadata": {},
   "outputs": [
    {
     "data": {
      "text/html": [
       "<style>#sk-container-id-1 {color: black;background-color: white;}#sk-container-id-1 pre{padding: 0;}#sk-container-id-1 div.sk-toggleable {background-color: white;}#sk-container-id-1 label.sk-toggleable__label {cursor: pointer;display: block;width: 100%;margin-bottom: 0;padding: 0.3em;box-sizing: border-box;text-align: center;}#sk-container-id-1 label.sk-toggleable__label-arrow:before {content: \"▸\";float: left;margin-right: 0.25em;color: #696969;}#sk-container-id-1 label.sk-toggleable__label-arrow:hover:before {color: black;}#sk-container-id-1 div.sk-estimator:hover label.sk-toggleable__label-arrow:before {color: black;}#sk-container-id-1 div.sk-toggleable__content {max-height: 0;max-width: 0;overflow: hidden;text-align: left;background-color: #f0f8ff;}#sk-container-id-1 div.sk-toggleable__content pre {margin: 0.2em;color: black;border-radius: 0.25em;background-color: #f0f8ff;}#sk-container-id-1 input.sk-toggleable__control:checked~div.sk-toggleable__content {max-height: 200px;max-width: 100%;overflow: auto;}#sk-container-id-1 input.sk-toggleable__control:checked~label.sk-toggleable__label-arrow:before {content: \"▾\";}#sk-container-id-1 div.sk-estimator input.sk-toggleable__control:checked~label.sk-toggleable__label {background-color: #d4ebff;}#sk-container-id-1 div.sk-label input.sk-toggleable__control:checked~label.sk-toggleable__label {background-color: #d4ebff;}#sk-container-id-1 input.sk-hidden--visually {border: 0;clip: rect(1px 1px 1px 1px);clip: rect(1px, 1px, 1px, 1px);height: 1px;margin: -1px;overflow: hidden;padding: 0;position: absolute;width: 1px;}#sk-container-id-1 div.sk-estimator {font-family: monospace;background-color: #f0f8ff;border: 1px dotted black;border-radius: 0.25em;box-sizing: border-box;margin-bottom: 0.5em;}#sk-container-id-1 div.sk-estimator:hover {background-color: #d4ebff;}#sk-container-id-1 div.sk-parallel-item::after {content: \"\";width: 100%;border-bottom: 1px solid gray;flex-grow: 1;}#sk-container-id-1 div.sk-label:hover label.sk-toggleable__label {background-color: #d4ebff;}#sk-container-id-1 div.sk-serial::before {content: \"\";position: absolute;border-left: 1px solid gray;box-sizing: border-box;top: 0;bottom: 0;left: 50%;z-index: 0;}#sk-container-id-1 div.sk-serial {display: flex;flex-direction: column;align-items: center;background-color: white;padding-right: 0.2em;padding-left: 0.2em;position: relative;}#sk-container-id-1 div.sk-item {position: relative;z-index: 1;}#sk-container-id-1 div.sk-parallel {display: flex;align-items: stretch;justify-content: center;background-color: white;position: relative;}#sk-container-id-1 div.sk-item::before, #sk-container-id-1 div.sk-parallel-item::before {content: \"\";position: absolute;border-left: 1px solid gray;box-sizing: border-box;top: 0;bottom: 0;left: 50%;z-index: -1;}#sk-container-id-1 div.sk-parallel-item {display: flex;flex-direction: column;z-index: 1;position: relative;background-color: white;}#sk-container-id-1 div.sk-parallel-item:first-child::after {align-self: flex-end;width: 50%;}#sk-container-id-1 div.sk-parallel-item:last-child::after {align-self: flex-start;width: 50%;}#sk-container-id-1 div.sk-parallel-item:only-child::after {width: 0;}#sk-container-id-1 div.sk-dashed-wrapped {border: 1px dashed gray;margin: 0 0.4em 0.5em 0.4em;box-sizing: border-box;padding-bottom: 0.4em;background-color: white;}#sk-container-id-1 div.sk-label label {font-family: monospace;font-weight: bold;display: inline-block;line-height: 1.2em;}#sk-container-id-1 div.sk-label-container {text-align: center;}#sk-container-id-1 div.sk-container {/* jupyter's `normalize.less` sets `[hidden] { display: none; }` but bootstrap.min.css set `[hidden] { display: none !important; }` so we also need the `!important` here to be able to override the default hidden behavior on the sphinx rendered scikit-learn.org. See: https://github.com/scikit-learn/scikit-learn/issues/21755 */display: inline-block !important;position: relative;}#sk-container-id-1 div.sk-text-repr-fallback {display: none;}</style><div id=\"sk-container-id-1\" class=\"sk-top-container\"><div class=\"sk-text-repr-fallback\"><pre>LinearRegression()</pre><b>In a Jupyter environment, please rerun this cell to show the HTML representation or trust the notebook. <br />On GitHub, the HTML representation is unable to render, please try loading this page with nbviewer.org.</b></div><div class=\"sk-container\" hidden><div class=\"sk-item\"><div class=\"sk-estimator sk-toggleable\"><input class=\"sk-toggleable__control sk-hidden--visually\" id=\"sk-estimator-id-1\" type=\"checkbox\" checked><label for=\"sk-estimator-id-1\" class=\"sk-toggleable__label sk-toggleable__label-arrow\">LinearRegression</label><div class=\"sk-toggleable__content\"><pre>LinearRegression()</pre></div></div></div></div></div>"
      ],
      "text/plain": [
       "LinearRegression()"
      ]
     },
     "execution_count": 54,
     "metadata": {},
     "output_type": "execute_result"
    }
   ],
   "source": [
    "trend_model = LinearRegression(fit_intercept=True)\n",
    "trend_model.fit(np.arange(data.shape[0]).reshape((-1,1)), data['CO2']) #reshape es para ponerlo como columna"
   ]
  },
  {
   "cell_type": "code",
   "execution_count": 55,
   "metadata": {},
   "outputs": [
    {
     "name": "stdout",
     "output_type": "stream",
     "text": [
      "Trend model coefficient=0.1209930124223602 and intercept=329.45310559006214\n"
     ]
    }
   ],
   "source": [
    "print('Trend model coefficient={} and intercept={}'.format(trend_model.coef_[0], trend_model.intercept_))"
   ]
  },
  {
   "attachments": {},
   "cell_type": "markdown",
   "metadata": {},
   "source": [
    "El residuo se calcula con los datos ajustados del conjunto de entrenamiento. Datos originales - datos ajustados. Los residuos ya no tendrian tendencia"
   ]
  },
  {
   "cell_type": "code",
   "execution_count": 56,
   "metadata": {},
   "outputs": [],
   "source": [
    "residuals = np.array(data['CO2']) - trend_model.predict(np.arange(data.shape[0]).reshape((-1,1)))"
   ]
  },
  {
   "attachments": {},
   "cell_type": "markdown",
   "metadata": {},
   "source": [
    "El residual obtenido a partir del modelo de línea de tendencia, presenta un comportamiento estacional"
   ]
  },
  {
   "cell_type": "code",
   "execution_count": 57,
   "metadata": {},
   "outputs": [
    {
     "data": {
      "image/png": "[encoded data removed]",
      "text/plain": [
       "<Figure size 396x396 with 1 Axes>"
      ]
     },
     "metadata": {
      "needs_background": "light"
     },
     "output_type": "display_data"
    }
   ],
   "source": [
    "plt.figure(figsize=(5.5, 5.5))\n",
    "pd.Series(data=residuals, index=data.index).plot(color='b')\n",
    "plt.title('Residuals of trend model for CO2 concentrations')\n",
    "plt.xlabel('Time')\n",
    "plt.ylabel('CO2 concentratition')\n",
    "plt.xticks(rotation=30);"
   ]
  },
  {
   "attachments": {},
   "cell_type": "markdown",
   "metadata": {},
   "source": [
    "# Estacionalidad\n",
    "Variaciones repetitivas y periodicas en la serie temporal"
   ]
  },
  {
   "attachments": {},
   "cell_type": "markdown",
   "metadata": {},
   "source": [
    "Grafico de subserie estacional: Para visualizar estacionalidad en los residuos, creo medias y desviaciones estándar trimestrales. Primero añado los residuos y las etiquetas trimestrales al DataFrame de concentraciones de CO2:"
   ]
  },
  {
   "cell_type": "code",
   "execution_count": 58,
   "metadata": {},
   "outputs": [],
   "source": [
    "data['Residuals'] = residuals\n",
    "month_quarter_map = {1: 'Q1', 2: 'Q1', 3: 'Q1',\n",
    "                     4: 'Q2', 5: 'Q2', 6: 'Q2',\n",
    "                     7: 'Q3', 8: 'Q3', 9: 'Q3',\n",
    "                     10: 'Q4', 11: 'Q4', 12: 'Q4'}\n",
    "data['Quarter'] = data['Month'].map(lambda m: month_quarter_map.get(m))"
   ]
  },
  {
   "attachments": {},
   "cell_type": "markdown",
   "metadata": {},
   "source": [
    "Luego, calculo la media estacional y las desviaciones típicas agrupando los datos por Year y Quarter. Esto crea el nuevo DataFrame como seasonal_sub_series_data, que tiene la media trimestral y las desviaciones estándar a lo largo de los años. Estas columnas se renombran como sigue:"
   ]
  },
  {
   "cell_type": "code",
   "execution_count": 59,
   "metadata": {},
   "outputs": [],
   "source": [
    "seasonal_sub_series_data = data.groupby(by=['Year', 'Quarter'])['Residuals'].aggregate([np.mean, np.std])\n",
    "seasonal_sub_series_data.columns = ['Quarterly Mean', 'Quarterly Standard Deviation'] #nombro las columnas"
   ]
  },
  {
   "attachments": {},
   "cell_type": "markdown",
   "metadata": {},
   "source": [
    "Creo índices de filas de seasonal_sub_series_data utilizando Year & Quarter"
   ]
  },
  {
   "cell_type": "code",
   "execution_count": 60,
   "metadata": {},
   "outputs": [
    {
     "data": {
      "text/html": [
       "<div>\n",
       "<style scoped>\n",
       "    .dataframe tbody tr th:only-of-type {\n",
       "        vertical-align: middle;\n",
       "    }\n",
       "\n",
       "    .dataframe tbody tr th {\n",
       "        vertical-align: top;\n",
       "    }\n",
       "\n",
       "    .dataframe thead th {\n",
       "        text-align: right;\n",
       "    }\n",
       "</style>\n",
       "<table border=\"1\" class=\"dataframe\">\n",
       "  <thead>\n",
       "    <tr style=\"text-align: right;\">\n",
       "      <th></th>\n",
       "      <th>Year</th>\n",
       "      <th>Quarter</th>\n",
       "      <th>Quarterly Mean</th>\n",
       "      <th>Quarterly Standard Deviation</th>\n",
       "    </tr>\n",
       "  </thead>\n",
       "  <tbody>\n",
       "    <tr>\n",
       "      <th>1974-Q2</th>\n",
       "      <td>1974</td>\n",
       "      <td>Q2</td>\n",
       "      <td>3.096398</td>\n",
       "      <td>0.820946</td>\n",
       "    </tr>\n",
       "    <tr>\n",
       "      <th>1974-Q3</th>\n",
       "      <td>1974</td>\n",
       "      <td>Q3</td>\n",
       "      <td>-0.616085</td>\n",
       "      <td>1.991671</td>\n",
       "    </tr>\n",
       "    <tr>\n",
       "      <th>1974-Q4</th>\n",
       "      <td>1974</td>\n",
       "      <td>Q4</td>\n",
       "      <td>-1.822397</td>\n",
       "      <td>1.014952</td>\n",
       "    </tr>\n",
       "    <tr>\n",
       "      <th>1975-Q1</th>\n",
       "      <td>1975</td>\n",
       "      <td>Q1</td>\n",
       "      <td>0.754624</td>\n",
       "      <td>0.511890</td>\n",
       "    </tr>\n",
       "    <tr>\n",
       "      <th>1975-Q2</th>\n",
       "      <td>1975</td>\n",
       "      <td>Q2</td>\n",
       "      <td>2.604978</td>\n",
       "      <td>0.355093</td>\n",
       "    </tr>\n",
       "  </tbody>\n",
       "</table>\n",
       "</div>"
      ],
      "text/plain": [
       "         Year Quarter  Quarterly Mean  Quarterly Standard Deviation\n",
       "1974-Q2  1974      Q2        3.096398                      0.820946\n",
       "1974-Q3  1974      Q3       -0.616085                      1.991671\n",
       "1974-Q4  1974      Q4       -1.822397                      1.014952\n",
       "1975-Q1  1975      Q1        0.754624                      0.511890\n",
       "1975-Q2  1975      Q2        2.604978                      0.355093"
      ]
     },
     "execution_count": 60,
     "metadata": {},
     "output_type": "execute_result"
    }
   ],
   "source": [
    "seasonal_sub_series_data.reset_index(inplace=True)\n",
    "seasonal_sub_series_data.index = seasonal_sub_series_data['Year'].astype(str) + '-' + seasonal_sub_series_data['Quarter']\n",
    "seasonal_sub_series_data.head()"
   ]
  },
  {
   "cell_type": "code",
   "execution_count": 61,
   "metadata": {},
   "outputs": [
    {
     "data": {
      "image/png": "[encoded data removed]",
      "text/plain": [
       "<Figure size 396x396 with 1 Axes>"
      ]
     },
     "metadata": {
      "needs_background": "light"
     },
     "output_type": "display_data"
    }
   ],
   "source": [
    "plt.figure(figsize=(5.5, 5.5))\n",
    "seasonal_sub_series_data['Quarterly Mean'].plot(color='b')\n",
    "plt.title('Quarterly Mean of Residuals')\n",
    "plt.xlabel('Time')\n",
    "plt.ylabel('CO2 concentratition')\n",
    "plt.xticks(rotation=30); #grafico de la media por trimestre"
   ]
  },
  {
   "cell_type": "code",
   "execution_count": 62,
   "metadata": {},
   "outputs": [
    {
     "data": {
      "image/png": "[encoded data removed]",
      "text/plain": [
       "<Figure size 396x396 with 1 Axes>"
      ]
     },
     "metadata": {
      "needs_background": "light"
     },
     "output_type": "display_data"
    }
   ],
   "source": [
    "plt.figure(figsize=(5.5, 5.5))\n",
    "seasonal_sub_series_data['Quarterly Standard Deviation'].plot(color='b')\n",
    "plt.title('Quarterly Quarterly Standard Deviation of Residuals')\n",
    "plt.xlabel('Time')\n",
    "plt.ylabel('CO2 concentratition')\n",
    "plt.xticks(rotation=30);"
   ]
  },
  {
   "attachments": {},
   "cell_type": "markdown",
   "metadata": {},
   "source": [
    "Tanto el gráfico de la media trimestral, como la desviación estandár trimestral de los residuos comprueba el comportamiento estacional de los residuos."
   ]
  },
  {
   "attachments": {},
   "cell_type": "markdown",
   "metadata": {},
   "source": [
    "Gráficos de cajas múltiples: muestra tanto la tendencia central como la dispersión de los datos estacionales en un lote de unidades temporales. La separación entre dos gráficos de caja adyacentes revela las variaciones dentro de la temporada"
   ]
  },
  {
   "cell_type": "code",
   "execution_count": 66,
   "metadata": {},
   "outputs": [
    {
     "data": {
      "image/png": "[encoded data removed]",
      "text/plain": [
       "<Figure size 396x396 with 1 Axes>"
      ]
     },
     "metadata": {
      "needs_background": "light"
     },
     "output_type": "display_data"
    }
   ],
   "source": [
    "plt.figure(figsize=(5.5, 5.5))\n",
    "g = sns.boxplot(data=data, y='Residuals', x='Quarter', order=[\n",
    "                 'Q1', 'Q2', 'Q3', 'Q4'],palette='Set2')\n",
    "g.set_title('Quarterly Boxplots of Residuals')\n",
    "g.set_xlabel('Time')\n",
    "g.set_ylabel('CO2 concentratition');"
   ]
  },
  {
   "attachments": {},
   "cell_type": "markdown",
   "metadata": {},
   "source": [
    "En la grafica de cajas de los residuales anterior se observan variaciones en las temporadas. En el Q2 se equivocó mas (por ser mas ancho). Y el Q1 fue donde se equivocó menos. El segundo trimestre es el que mas esta más por encima de la linea de tendencia"
   ]
  },
  {
   "attachments": {},
   "cell_type": "markdown",
   "metadata": {},
   "source": [
    "Cambios cíclicos: son movimientos que se observan cada pocas unidades de tiempo, pero ocurren con menos frecuencia que las fluctuaciones estacionales. A diferencia de la estacionalidad, los cambios cíclicos pueden no tener un periodo fijo de variaciones."
   ]
  },
  {
   "attachments": {},
   "cell_type": "markdown",
   "metadata": {},
   "source": [
    "La siguiente figura muestra los cambios cíclicos de la Inflación del índice de precios al consumo (IPC) de la India y Estados Unidos, en el periodo 1960-2016. Ambos países muestran patrones cíclicos en la inflación del IPC, que es aproximadamente durante un período de 2-2.5 años. "
   ]
  },
  {
   "cell_type": "code",
   "execution_count": 67,
   "metadata": {},
   "outputs": [],
   "source": [
    "inflation = pd.read_excel('datasets/inflation-consumer-prices-annual.xlsx', parse_dates=['Year'])"
   ]
  },
  {
   "cell_type": "code",
   "execution_count": 68,
   "metadata": {},
   "outputs": [
    {
     "data": {
      "text/html": [
       "<div>\n",
       "<style scoped>\n",
       "    .dataframe tbody tr th:only-of-type {\n",
       "        vertical-align: middle;\n",
       "    }\n",
       "\n",
       "    .dataframe tbody tr th {\n",
       "        vertical-align: top;\n",
       "    }\n",
       "\n",
       "    .dataframe thead th {\n",
       "        text-align: right;\n",
       "    }\n",
       "</style>\n",
       "<table border=\"1\" class=\"dataframe\">\n",
       "  <thead>\n",
       "    <tr style=\"text-align: right;\">\n",
       "      <th></th>\n",
       "      <th>Year</th>\n",
       "      <th>India</th>\n",
       "      <th>United States</th>\n",
       "    </tr>\n",
       "  </thead>\n",
       "  <tbody>\n",
       "    <tr>\n",
       "      <th>0</th>\n",
       "      <td>1960-01-01</td>\n",
       "      <td>1.783265</td>\n",
       "      <td>1.509929</td>\n",
       "    </tr>\n",
       "    <tr>\n",
       "      <th>1</th>\n",
       "      <td>1961-01-01</td>\n",
       "      <td>1.752022</td>\n",
       "      <td>1.075182</td>\n",
       "    </tr>\n",
       "    <tr>\n",
       "      <th>2</th>\n",
       "      <td>1962-01-01</td>\n",
       "      <td>3.576159</td>\n",
       "      <td>1.116071</td>\n",
       "    </tr>\n",
       "    <tr>\n",
       "      <th>3</th>\n",
       "      <td>1963-01-01</td>\n",
       "      <td>2.941176</td>\n",
       "      <td>1.214128</td>\n",
       "    </tr>\n",
       "    <tr>\n",
       "      <th>4</th>\n",
       "      <td>1964-01-01</td>\n",
       "      <td>13.354037</td>\n",
       "      <td>1.308615</td>\n",
       "    </tr>\n",
       "  </tbody>\n",
       "</table>\n",
       "</div>"
      ],
      "text/plain": [
       "        Year      India  United States\n",
       "0 1960-01-01   1.783265       1.509929\n",
       "1 1961-01-01   1.752022       1.075182\n",
       "2 1962-01-01   3.576159       1.116071\n",
       "3 1963-01-01   2.941176       1.214128\n",
       "4 1964-01-01  13.354037       1.308615"
      ]
     },
     "execution_count": 68,
     "metadata": {},
     "output_type": "execute_result"
    }
   ],
   "source": [
    "inflation.head() #Visualizamos los datos"
   ]
  },
  {
   "cell_type": "code",
   "execution_count": 71,
   "metadata": {},
   "outputs": [
    {
     "data": {
      "image/png": "[encoded data removed]",
      "text/plain": [
       "<Figure size 540x396 with 1 Axes>"
      ]
     },
     "metadata": {
      "needs_background": "light"
     },
     "output_type": "display_data"
    }
   ],
   "source": [
    "plt.figure(figsize=(7.5, 5.5))\n",
    "plt.plot(range(1960,2017), inflation['India'], linestyle='-', marker='*', color='deeppink')\n",
    "plt.plot(range(1960,2017), inflation['United States'], linestyle='-', marker='.', color='dodgerblue')\n",
    "plt.legend(['India','United States'], loc=2)\n",
    "plt.title('Inflation in Consumer Price Index')\n",
    "plt.ylabel('Inflation')\n",
    "plt.xlabel('Years');"
   ]
  },
  {
   "attachments": {},
   "cell_type": "markdown",
   "metadata": {},
   "source": [
    "De la gráfica anterior se infifere que la inflación del IPC de la India y de Estados Unidos presenta mayores variaciones antes de 1990 que después de 1990 (aunque la de USA fluctúa mucho menos). La inflación más alta del período para India fue en 1974, mientras ue la más baja fue dos años después en 1976. En el 2009, USA tuvo su inflación más baja, mientras que en 1980 registró la inflación más alta. "
   ]
  },
  {
   "attachments": {},
   "cell_type": "markdown",
   "metadata": {},
   "source": [
    "# Modelos de análisis de series temporales"
   ]
  },
  {
   "attachments": {},
   "cell_type": "markdown",
   "metadata": {},
   "source": [
    "## Modelos de media cero"
   ]
  },
  {
   "attachments": {},
   "cell_type": "markdown",
   "metadata": {},
   "source": [
    "Los modelos de media cero tienen una media y una varianza constantes y no muestran tendencias predecibles ni estacionalidad. La siguiente figura muestra una serie de ruido aleatorio con media cero y distribución normal de varianza unitaria."
   ]
  },
  {
   "cell_type": "code",
   "execution_count": 72,
   "metadata": {},
   "outputs": [],
   "source": [
    "import numpy as np\n",
    "from matplotlib import pyplot as plt\n",
    "import seaborn as sns"
   ]
  },
  {
   "cell_type": "code",
   "execution_count": 73,
   "metadata": {},
   "outputs": [],
   "source": [
    "zero_mean_series = np.random.normal(loc=0.0, scale=1., size=100)"
   ]
  },
  {
   "cell_type": "code",
   "execution_count": 76,
   "metadata": {},
   "outputs": [
    {
     "data": {
      "image/png": "[encoded data removed]",
      "text/plain": [
       "<Figure size 540x396 with 1 Axes>"
      ]
     },
     "metadata": {
      "needs_background": "light"
     },
     "output_type": "display_data"
    }
   ],
   "source": [
    "plt.figure(figsize=(7.5, 5.5))\n",
    "g = sns.lineplot(zero_mean_series, color='violet')\n",
    "g.set_title('Zero mean model')\n",
    "g.set_xlabel('Time index');"
   ]
  },
  {
   "attachments": {},
   "cell_type": "markdown",
   "metadata": {},
   "source": [
    "La gráfica anterior muestra variaciones irregulares en la serie temporal de una variable continua."
   ]
  },
  {
   "attachments": {},
   "cell_type": "markdown",
   "metadata": {},
   "source": [
    "## Recorrido aleatorio\n",
    "\n",
    "Un paseo aleatorio viene dado como una suma de $n$ iids, que tiene media cero y varianza constante. A partir de esta definición, la realización de un paseo aleatorio en el índice de tiempo viene dada por la suma $S=y_1 + y_2 +...+y_n$. El paseo aleatorio puede generarse tomando la suma acumulada del modelo de media cero, como sigue:"
   ]
  },
  {
   "cell_type": "code",
   "execution_count": 77,
   "metadata": {},
   "outputs": [],
   "source": [
    "random_walk = np.cumsum(zero_mean_series)"
   ]
  },
  {
   "cell_type": "code",
   "execution_count": 86,
   "metadata": {},
   "outputs": [
    {
     "data": {
      "image/png": "[encoded data removed]",
      "text/plain": [
       "<Figure size 396x396 with 1 Axes>"
      ]
     },
     "metadata": {
      "needs_background": "light"
     },
     "output_type": "display_data"
    }
   ],
   "source": [
    "plt.figure(figsize=(5.5, 5.5))\n",
    "g = sns.lineplot(random_walk, color='magenta')\n",
    "g.set_title('Random Walk')\n",
    "g.set_xlabel('Time index');"
   ]
  },
  {
   "attachments": {},
   "cell_type": "markdown",
   "metadata": {},
   "source": [
    "En la gráfica anterior no se observa tendencia o ciclos. De hecho, en el ámbito financiero, la teoría del paseo alaeatorio asume que el mercado de valores se mueve de una manera impredecible, es decir, el precio futuro de cada acción es independiente de su propio movimiento histórico y del precio de otros valores."
   ]
  },
  {
   "attachments": {},
   "cell_type": "markdown",
   "metadata": {},
   "source": [
    "## Autocorrelación y autocorrelación parcial"
   ]
  },
  {
   "attachments": {},
   "cell_type": "markdown",
   "metadata": {},
   "source": [
    "Una serie temporal estacionaria (o débilmente estacionaria), tiene una media constante $E(y_t)$ y una correlación que solo depende del desfase entre dos pasos temporales, pero independiente del valor del paso temporal, esto es, su distribución de probabilidad es completamente independiente del tiempo. Este tipo de covarianza se denomina autocovarianza o autocorrelación, cuando se normaliza en el intervalo de -1 a 1. La autocorrelación es una medida de la dependencia lineal entre las variables $y_t$ y $y_{t+h}$."
   ]
  },
  {
   "attachments": {},
   "cell_type": "markdown",
   "metadata": {},
   "source": [
    "Una autocorrelación positiva indica que los valores presentes y futuros de la serie temporal se mueven en la misma dirección, mientras que los valores negativos significan que los valores presentes y futuros se mueven en sentido contrario. Si la autocorrelación es cercana a cero, las dependencias temporales dentro de la serie pueden ser difíciles de encontrar. "
   ]
  },
  {
   "attachments": {},
   "cell_type": "markdown",
   "metadata": {},
   "source": [
    "La presencia de autocorrelación puede identificarse trazando los valores observados de la función de autocorrelación (ACF) de una serie temporal determinada. Se ilustrará a continuación cómo el trazado de los valores observados de la ACF puede ayudar a detectar la presencia de autocorrelación. Para ello, se trazará primero el valor diario del Dow Jones Industrial Average (DJIA) observado desde enero de 2016 a diciembre de 2016. Este es uno de los índices bursátiles creados por Charles Henry Dow."
   ]
  },
  {
   "cell_type": "code",
   "execution_count": 87,
   "metadata": {},
   "outputs": [],
   "source": [
    "import pandas as pd\n",
    "from matplotlib import pyplot as plt\n",
    "from statsmodels.graphics.tsaplots import plot_acf, plot_pacf"
   ]
  },
  {
   "cell_type": "code",
   "execution_count": 88,
   "metadata": {},
   "outputs": [],
   "source": [
    "djia_df = pd.read_excel('datasets/DJIA_Jan2016_Dec2016.xlsx')"
   ]
  },
  {
   "cell_type": "code",
   "execution_count": 89,
   "metadata": {},
   "outputs": [
    {
     "data": {
      "text/html": [
       "<div>\n",
       "<style scoped>\n",
       "    .dataframe tbody tr th:only-of-type {\n",
       "        vertical-align: middle;\n",
       "    }\n",
       "\n",
       "    .dataframe tbody tr th {\n",
       "        vertical-align: top;\n",
       "    }\n",
       "\n",
       "    .dataframe thead th {\n",
       "        text-align: right;\n",
       "    }\n",
       "</style>\n",
       "<table border=\"1\" class=\"dataframe\">\n",
       "  <thead>\n",
       "    <tr style=\"text-align: right;\">\n",
       "      <th></th>\n",
       "      <th>Date</th>\n",
       "      <th>Open</th>\n",
       "      <th>High</th>\n",
       "      <th>Low</th>\n",
       "      <th>Close</th>\n",
       "      <th>Adj Close</th>\n",
       "      <th>Volume</th>\n",
       "    </tr>\n",
       "    <tr>\n",
       "      <th>Date</th>\n",
       "      <th></th>\n",
       "      <th></th>\n",
       "      <th></th>\n",
       "      <th></th>\n",
       "      <th></th>\n",
       "      <th></th>\n",
       "      <th></th>\n",
       "    </tr>\n",
       "  </thead>\n",
       "  <tbody>\n",
       "    <tr>\n",
       "      <th>2016-01-04</th>\n",
       "      <td>2016-01-04</td>\n",
       "      <td>17405.480469</td>\n",
       "      <td>17405.480469</td>\n",
       "      <td>16957.630859</td>\n",
       "      <td>17148.939453</td>\n",
       "      <td>17148.939453</td>\n",
       "      <td>148060000</td>\n",
       "    </tr>\n",
       "    <tr>\n",
       "      <th>2016-01-05</th>\n",
       "      <td>2016-01-05</td>\n",
       "      <td>17147.500000</td>\n",
       "      <td>17195.839844</td>\n",
       "      <td>17038.609375</td>\n",
       "      <td>17158.660156</td>\n",
       "      <td>17158.660156</td>\n",
       "      <td>105750000</td>\n",
       "    </tr>\n",
       "    <tr>\n",
       "      <th>2016-01-06</th>\n",
       "      <td>2016-01-06</td>\n",
       "      <td>17154.830078</td>\n",
       "      <td>17154.830078</td>\n",
       "      <td>16817.619141</td>\n",
       "      <td>16906.509766</td>\n",
       "      <td>16906.509766</td>\n",
       "      <td>120250000</td>\n",
       "    </tr>\n",
       "    <tr>\n",
       "      <th>2016-01-07</th>\n",
       "      <td>2016-01-07</td>\n",
       "      <td>16888.359375</td>\n",
       "      <td>16888.359375</td>\n",
       "      <td>16463.630859</td>\n",
       "      <td>16514.099609</td>\n",
       "      <td>16514.099609</td>\n",
       "      <td>176240000</td>\n",
       "    </tr>\n",
       "    <tr>\n",
       "      <th>2016-01-08</th>\n",
       "      <td>2016-01-08</td>\n",
       "      <td>16519.169922</td>\n",
       "      <td>16651.890625</td>\n",
       "      <td>16314.570313</td>\n",
       "      <td>16346.450195</td>\n",
       "      <td>16346.450195</td>\n",
       "      <td>141850000</td>\n",
       "    </tr>\n",
       "  </tbody>\n",
       "</table>\n",
       "</div>"
      ],
      "text/plain": [
       "                 Date          Open          High           Low         Close  \\\n",
       "Date                                                                            \n",
       "2016-01-04 2016-01-04  17405.480469  17405.480469  16957.630859  17148.939453   \n",
       "2016-01-05 2016-01-05  17147.500000  17195.839844  17038.609375  17158.660156   \n",
       "2016-01-06 2016-01-06  17154.830078  17154.830078  16817.619141  16906.509766   \n",
       "2016-01-07 2016-01-07  16888.359375  16888.359375  16463.630859  16514.099609   \n",
       "2016-01-08 2016-01-08  16519.169922  16651.890625  16314.570313  16346.450195   \n",
       "\n",
       "               Adj Close     Volume  \n",
       "Date                                 \n",
       "2016-01-04  17148.939453  148060000  \n",
       "2016-01-05  17158.660156  105750000  \n",
       "2016-01-06  16906.509766  120250000  \n",
       "2016-01-07  16514.099609  176240000  \n",
       "2016-01-08  16346.450195  141850000  "
      ]
     },
     "execution_count": 89,
     "metadata": {},
     "output_type": "execute_result"
    }
   ],
   "source": [
    "djia_df.index = djia_df['Date']\n",
    "djia_df.head()"
   ]
  },
  {
   "attachments": {},
   "cell_type": "markdown",
   "metadata": {},
   "source": [
    "Se tienen variables como la fecha, valor de apertura, valor de cierre, valor más alto, valor más bajo, volumen"
   ]
  },
  {
   "cell_type": "code",
   "execution_count": 92,
   "metadata": {},
   "outputs": [
    {
     "data": {
      "image/png": "[encoded data removed]",
      "text/plain": [
       "<Figure size 540x396 with 1 Axes>"
      ]
     },
     "metadata": {
      "needs_background": "light"
     },
     "output_type": "display_data"
    }
   ],
   "source": [
    "plt.figure(figsize=(7.5, 5.5))\n",
    "djia_df['Close'].plot(color='mediumorchid')\n",
    "plt.title('Dow Jones Industrial Average between Jan 2016 - Dec 2016')\n",
    "plt.xlabel('Time')\n",
    "plt.ylabel('Closing Value');"
   ]
  },
  {
   "attachments": {},
   "cell_type": "markdown",
   "metadata": {},
   "source": [
    "A primera vista, pareciera que cuando el DJIA empieza a subir, continúa haciéndolo durante algún tiempo, y cuando baja, cae en picada durante un lapso de tiempo. Para comprobar esto, se estima la ACF calculando la autocorrelación para diferentes valores del retardo $h$, que en este caso varía de 0 a 100. "
   ]
  },
  {
   "cell_type": "code",
   "execution_count": 91,
   "metadata": {},
   "outputs": [],
   "source": [
    "lag = range(0,31)\n",
    "djia_acf = []\n",
    "for l in lag:\n",
    "    djia_acf.append(djia_df['Close'].autocorr(l))"
   ]
  },
  {
   "attachments": {},
   "cell_type": "markdown",
   "metadata": {},
   "source": [
    "El código anterior itera sobre una lista de 100 valores del lag empezando de 0 a 30. Un desfase de 0 indica autocorrelación de una observación consigo misma (autocorrelación) y por lo tanto, se espera que sea 1.0"
   ]
  },
  {
   "cell_type": "code",
   "execution_count": 95,
   "metadata": {},
   "outputs": [
    {
     "data": {
      "image/png": "[encoded data removed]",
      "text/plain": [
       "<Figure size 540x396 with 1 Axes>"
      ]
     },
     "metadata": {
      "needs_background": "light"
     },
     "output_type": "display_data"
    }
   ],
   "source": [
    "plt.figure(figsize=(7.5, 5.5))\n",
    "plt.plot(djia_acf, marker='.', color='lightcoral')\n",
    "plt.title('Autocorrelation function for DJIA')\n",
    "plt.xlabel('Lag in terms of number of trading days')\n",
    "plt.ylabel('Autocorrelation function');"
   ]
  },
  {
   "attachments": {},
   "cell_type": "markdown",
   "metadata": {},
   "source": [
    "Del gráfico ACF, se sospecha que la autocorrelación en DJIA Close disminuye linealmente con el retardo, con un cambio en la tasa de caída alrededor de los 18 días. Con un desfase de 30 días, la ACF es de 0.66 aproximadamente. También se observa que la autocorrelación, en el caso de los valores de cierre del DJIA, depende del desfase temporal entre las observaciones."
   ]
  },
  {
   "attachments": {},
   "cell_type": "markdown",
   "metadata": {},
   "source": [
    "Otra manera de calcular la autocorrelación es con la función plot_acf, la cual traza los intervalos de confianza del 95%; la autocorrelación fuera de estos intervalos de confianza es una correlación estadísticamente significativa, mientras que las que están dentro de los intervalos de confianza se deben a ruido aleatorio."
   ]
  },
  {
   "cell_type": "code",
   "execution_count": 98,
   "metadata": {},
   "outputs": [
    {
     "data": {
      "text/plain": [
       "<Figure size 612x540 with 0 Axes>"
      ]
     },
     "metadata": {},
     "output_type": "display_data"
    },
    {
     "data": {
      "image/png": "[encoded data removed]",
      "text/plain": [
       "<Figure size 432x288 with 1 Axes>"
      ]
     },
     "metadata": {
      "needs_background": "light"
     },
     "output_type": "display_data"
    }
   ],
   "source": [
    "plt.figure(figsize=(8.5, 7.5))\n",
    "plot_acf(djia_df['Close'], lags=31);"
   ]
  },
  {
   "attachments": {},
   "cell_type": "markdown",
   "metadata": {},
   "source": [
    "El área sombrueda son los intervalos de confianza, las líneas cuyo círculo esté por fuera de este, indican una autocorrelación significativa: es decir, hasta el rezago h=16."
   ]
  },
  {
   "attachments": {},
   "cell_type": "markdown",
   "metadata": {},
   "source": [
    "Los modelos autorregresivos (AR) captan la dependencia lineal como una regresión lineal entre $y_{t+h}$ y $y_t$. Sin embargo, las series temporales tienden a llevar información y estructuras de dependencia por etapas, por lo que la autocorrelación en el retardo $h$ también se ve influida por las variables intermedias $y_t ,y_{t+1},...y_{t+h-1}$´. Es decir, la autocorrelación no es la medida correcta de la correlación mutua entre $y_t$ y $y_{t+h}$ cuando hay variables intermedias."
   ]
  },
  {
   "attachments": {},
   "cell_type": "markdown",
   "metadata": {},
   "source": [
    "La autocorrelación parcial resuelve este problema midiendo la correlación entre $y_t$ y $y_{t+h}$ cuando se ha eliminado la influencia de las variables intermedias. Por lo tanto, la autocorrelación parcial en el análisis de series temporales define la correlación entre $y_t$ y $y_{t+h}$ que no tiene en cuenta los retardos $t+1,...,t+h-1$. La autocorrelación parcial permite identificar el orden $h$ de un modelo $AR(h)$."
   ]
  },
  {
   "cell_type": "code",
   "execution_count": 101,
   "metadata": {},
   "outputs": [
    {
     "data": {
      "text/plain": [
       "<Figure size 396x396 with 0 Axes>"
      ]
     },
     "metadata": {},
     "output_type": "display_data"
    },
    {
     "data": {
      "image/png": "[encoded data removed]",
      "text/plain": [
       "<Figure size 432x288 with 1 Axes>"
      ]
     },
     "metadata": {
      "needs_background": "light"
     },
     "output_type": "display_data"
    }
   ],
   "source": [
    "plt.figure(figsize=(5.5, 5.5))\n",
    "plot_pacf(djia_df['Close'], lags=31); #valores de cierre del DJIA"
   ]
  },
  {
   "attachments": {},
   "cell_type": "markdown",
   "metadata": {},
   "source": [
    "A partir del gráfico anterior, se concluye que sólo en el retardo 1 la autocorrelación parcial es estadísticamente significativa, mientras que para el resto de los rezagos está dentro de los intervalos de confianza del 95%. La primera autocorrelación parcial (retardo 0) es siempre 1.0. Es decir, para los valores de cierre del DJIA resultado adecuado usar $AR(1)$."
   ]
  }
 ],
 "metadata": {
  "kernelspec": {
   "display_name": "base",
   "language": "python",
   "name": "python3"
  },
  "language_info": {
   "codemirror_mode": {
    "name": "ipython",
    "version": 3
   },
   "file_extension": ".py",
   "mimetype": "text/x-python",
   "name": "python",
   "nbconvert_exporter": "python",
   "pygments_lexer": "ipython3",
   "version": "3.9.5"
  },
  "orig_nbformat": 4,
  "vscode": {
   "interpreter": {
    "hash": "9a4c7280692ece708fcf26ec27b66f8613f9fc32c51dbec79a92911dfc5f07c5"
   }
  }
 },
 "nbformat": 4,
 "nbformat_minor": 2
}
